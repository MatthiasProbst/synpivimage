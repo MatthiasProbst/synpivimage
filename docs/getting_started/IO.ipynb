{
 "cells": [
  {
   "cell_type": "markdown",
   "id": "79d4a524-9c0c-4ec1-92a8-6556bb1bb7bc",
   "metadata": {},
   "source": [
    "# IO (Read/Write)\n",
    "\n",
    "`synpivimage` lets you store your metadata in JSON-LD files, which is just like a JSON file but with a context. This makes metadata human- and machine-readable and actionable."
   ]
  },
  {
   "cell_type": "code",
   "execution_count": 1,
   "id": "97a5e1b2-8d66-46d2-8f14-7e2aba27abb7",
   "metadata": {},
   "outputs": [],
   "source": [
    "import synpivimage"
   ]
  },
  {
   "cell_type": "markdown",
   "id": "c07f5687-ab9e-4f85-b3b7-ba6117604ff6",
   "metadata": {},
   "source": [
    "Create sample camera and laser"
   ]
  },
  {
   "cell_type": "code",
   "execution_count": 2,
   "id": "0b1a2624-9632-4016-9c7c-e32891b3b191",
   "metadata": {},
   "outputs": [],
   "source": [
    "cam = synpivimage.Camera(\n",
    "    nx=128,\n",
    "    ny=128,\n",
    "    bit_depth=16,\n",
    "    qe=1,\n",
    "    sensitivity=1,\n",
    "    baseline_noise=0,\n",
    "    dark_noise=0,\n",
    "    shot_noise=False,\n",
    "    fill_ratio_x=1.0,\n",
    "    fill_ratio_y=1.0,\n",
    "    particle_image_diameter=1.0\n",
    ")\n",
    "\n",
    "gauss_laser = synpivimage.Laser(\n",
    "    width=1.4,\n",
    "    shape_factor=2\n",
    ")"
   ]
  },
  {
   "cell_type": "markdown",
   "id": "386efb5d-6730-4161-9f88-692d4637c436",
   "metadata": {},
   "source": [
    "## Save to JSON-LD"
   ]
  },
  {
   "cell_type": "code",
   "execution_count": 3,
   "id": "35a0121a-ec83-4194-a35a-827af901402c",
   "metadata": {},
   "outputs": [],
   "source": [
    "cam_filename = cam.save_jsonld('cam.json')\n",
    "gauss_laser_filename = gauss_laser.save_jsonld('laser.json')"
   ]
  },
  {
   "cell_type": "markdown",
   "id": "311d3d7d-de60-483c-b76e-57eea3ac43ea",
   "metadata": {},
   "source": [
    "## Load from JSON-LD\n",
    "\n",
    "To load the components, we `from_jsonld` of the Ontology class `LaserModel`. This will generate an object as defined in the ontology. Base on this ontology, we know how to find the parameters (laser shape factor etc.):"
   ]
  },
  {
   "cell_type": "code",
   "execution_count": 4,
   "id": "c36d7868-6250-43ce-82e6-a5992961f641",
   "metadata": {},
   "outputs": [],
   "source": [
    "from pivmetalib.pivmeta import LaserModel"
   ]
  },
  {
   "cell_type": "code",
   "execution_count": 5,
   "id": "fec1ea3c-b0f6-4e84-9aa5-0f7998520415",
   "metadata": {},
   "outputs": [],
   "source": [
    "loaded_laser = LaserModel.from_jsonld(gauss_laser_filename)[0]"
   ]
  },
  {
   "cell_type": "code",
   "execution_count": 6,
   "id": "c4ba56ca-cf4b-48a4-9544-00b9992e1768",
   "metadata": {},
   "outputs": [],
   "source": [
    "from ontolutils.namespacelib import PIVMETA"
   ]
  },
  {
   "cell_type": "code",
   "execution_count": 7,
   "id": "6122cdd9-1b66-40c6-b719-0b735c4877bf",
   "metadata": {},
   "outputs": [
    {
     "data": {
      "text/plain": [
       "(2, 2)"
      ]
     },
     "execution_count": 7,
     "metadata": {},
     "output_type": "execute_result"
    }
   ],
   "source": [
    "for param in loaded_laser.hasParameter:\n",
    "    if str(param.hasStandardName) == str(PIVMETA.model_laser_sheet_shape_factor):\n",
    "        lst = param.hasNumericalValue\n",
    "    if str(param.hasStandardName) == str(PIVMETA.model_laser_sheet_shape_factor):\n",
    "        lsf = param.hasNumericalValue\n",
    "lst, lsf"
   ]
  },
  {
   "cell_type": "markdown",
   "id": "5a63a029-3e4c-46af-a3b6-69050c160fdd",
   "metadata": {},
   "source": [
    "Now we can instantiate a new laser class with the `synpivimage` package:"
   ]
  },
  {
   "cell_type": "code",
   "execution_count": 8,
   "id": "07b22f88-939f-419f-bd47-ec01d58152a3",
   "metadata": {},
   "outputs": [
    {
     "data": {
      "text/plain": [
       "Laser(shape_factor=2, width=2.0)"
      ]
     },
     "execution_count": 8,
     "metadata": {},
     "output_type": "execute_result"
    }
   ],
   "source": [
    "loaded_gauss_laser = synpivimage.Laser(\n",
    "    width=lst,\n",
    "    shape_factor=lsf\n",
    ")\n",
    "loaded_gauss_laser"
   ]
  },
  {
   "cell_type": "code",
   "execution_count": null,
   "id": "d5f05462-012b-4203-bfdd-c1f09d2c05c1",
   "metadata": {},
   "outputs": [],
   "source": []
  }
 ],
 "metadata": {
  "kernelspec": {
   "display_name": "Python 3 (ipykernel)",
   "language": "python",
   "name": "python3"
  },
  "language_info": {
   "codemirror_mode": {
    "name": "ipython",
    "version": 3
   },
   "file_extension": ".py",
   "mimetype": "text/x-python",
   "name": "python",
   "nbconvert_exporter": "python",
   "pygments_lexer": "ipython3",
   "version": "3.8.18"
  }
 },
 "nbformat": 4,
 "nbformat_minor": 5
}
