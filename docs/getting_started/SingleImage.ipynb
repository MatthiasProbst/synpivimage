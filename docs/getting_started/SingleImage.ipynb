{
 "cells": [
  {
   "cell_type": "markdown",
   "id": "849bbe35-6100-4c1a-9da9-d986f0e22eeb",
   "metadata": {},
   "source": [
    "# Take a single image\n",
    "\n",
    "Learn how to generate a single image."
   ]
  },
  {
   "cell_type": "markdown",
   "id": "767fcb72-c3ba-4e8c-91e0-79c1b232aa79",
   "metadata": {},
   "source": [
    "## Imports"
   ]
  },
  {
   "cell_type": "code",
   "execution_count": 1,
   "id": "416885b3-9f17-4323-860b-49619687a584",
   "metadata": {},
   "outputs": [],
   "source": [
    "import numpy as np\n",
    "\n",
    "import synpivimage"
   ]
  },
  {
   "cell_type": "markdown",
   "id": "310aa26a-2ee6-4c58-b819-b212b6252be5",
   "metadata": {},
   "source": [
    "## Set up the synthetic PIV components\n",
    "A synthetic PIV setup consists of\n",
    "\n",
    "- [laser](../basics/Camera.ipynb) and\n",
    "- [camera](../basics/Camera.ipynb).\n",
    "\n",
    "Let's set up both components. If you need explanation for the parameters, please visit the documentation for [laser] and [camera] respectively.\n",
    "\n",
    "We will use some standard parameters and choose a small image/sensor of 16x16 pixels:"
   ]
  },
  {
   "cell_type": "code",
   "execution_count": 2,
   "id": "de7eebd2-ecf2-4836-894e-6081912f5678",
   "metadata": {},
   "outputs": [],
   "source": [
    "cam = synpivimage.Camera(\n",
    "    nx=16,\n",
    "    ny=16,\n",
    "    bit_depth=16,\n",
    "    qe=1,\n",
    "    sensitivity=1,\n",
    "    baseline_noise=50,\n",
    "    dark_noise=10,\n",
    "    shot_noise=False,\n",
    "    fill_ratio_x=1.0,\n",
    "    fill_ratio_y=1.0,\n",
    "    particle_image_diameter=2,\n",
    "    seed=100\n",
    ")\n",
    "\n",
    "laser = synpivimage.Laser(\n",
    "    width=0.25,\n",
    "    shape_factor=2\n",
    ")"
   ]
  },
  {
   "cell_type": "markdown",
   "id": "335f5cb3-d9d3-41cf-b828-68a76e0c891c",
   "metadata": {},
   "source": [
    "## Position particles\n",
    "\n",
    "Next, we need to define the position and size of the **particles** within the sensor plane.\n",
    "\n",
    "**By intention**, we create particles *outside* the camera FOV, which are coordinates below 0 or larger than `cam.nx` or `cam.ny`. By taking the image later, the algorithm will flag particles, that are not illuminated. "
   ]
  },
  {
   "cell_type": "code",
   "execution_count": 3,
   "id": "c816e51d-31d0-4d6c-9aec-4d77a1e2d796",
   "metadata": {},
   "outputs": [],
   "source": [
    "n = 100\n",
    "particles = synpivimage.Particles(\n",
    "    x=np.random.uniform(-5, cam.nx+4, n),\n",
    "    y=np.random.uniform(-5, cam.ny+4, n),\n",
    "    z=np.zeros(n),\n",
    "    size=np.ones(n)*2.5\n",
    ")"
   ]
  },
  {
   "cell_type": "markdown",
   "id": "009d1fb2-8223-4aa6-ae04-6f2447403415",
   "metadata": {},
   "source": [
    "## Take the image\n",
    "\n",
    "To take the image, call `take_image` and pass the above components. You need to define the theoretical particle count of an image particle located at z=0."
   ]
  },
  {
   "cell_type": "code",
   "execution_count": 4,
   "id": "dcbe4edd-c5f6-4175-8d7b-8ff44da04499",
   "metadata": {},
   "outputs": [],
   "source": [
    "img, part = synpivimage.take_image(\n",
    "    laser,\n",
    "    cam,\n",
    "    particles,\n",
    "    particle_peak_count=1000)"
   ]
  },
  {
   "cell_type": "markdown",
   "id": "e2b8b27b-d8bc-483c-bb50-34493f64acd3",
   "metadata": {},
   "source": [
    "Let's plot the image. Not all particles are illuminated. We will mark the illuminated ones green in the plot below. All illuminated (active) particles can be accessed using the flag via the property `active`:"
   ]
  },
  {
   "cell_type": "code",
   "execution_count": 5,
   "id": "f2161609-b026-4897-b298-ff2916847f12",
   "metadata": {},
   "outputs": [],
   "source": [
    "import matplotlib.pyplot as plt"
   ]
  },
  {
   "cell_type": "code",
   "execution_count": 6,
   "id": "ee5b98e8-cb3d-4cba-811b-a9d724dd0877",
   "metadata": {},
   "outputs": [
    {
     "data": {
      "text/plain": [
       "<matplotlib.collections.PathCollection at 0x2121e5a08b0>"
      ]
     },
     "execution_count": 6,
     "metadata": {},
     "output_type": "execute_result"
    },
    {
     "data": {
      "image/png": "[encoded data removed]",
      "text/plain": [
       "<Figure size 640x480 with 1 Axes>"
      ]
     },
     "metadata": {},
     "output_type": "display_data"
    }
   ],
   "source": [
    "plt.imshow(img, cmap='gray')\n",
    "plt.scatter(part.x[part.active],\n",
    "            part.y[part.active],\n",
    "            marker='+', color='g')\n",
    "plt.scatter(part.x[~part.active],\n",
    "            part.y[~part.active],\n",
    "            marker='+', color='r')"
   ]
  },
  {
   "cell_type": "markdown",
   "id": "67d6236c-7321-455e-a361-1292ce49b608",
   "metadata": {},
   "source": [
    "## Save the image and the setup\n",
    "\n",
    "We save the image including the camera and laser settings like this:"
   ]
  },
  {
   "cell_type": "code",
   "execution_count": 7,
   "id": "afc492e8-4b10-4321-949e-e7bd282f18ad",
   "metadata": {},
   "outputs": [
    {
     "name": "stdout",
     "output_type": "stream",
     "text": [
      "Done\n"
     ]
    }
   ],
   "source": [
    "with synpivimage.Imwriter(case_name='single_img',\n",
    "                          image_dir='.',\n",
    "                          suffix='.tif',\n",
    "                          overwrite=True,\n",
    "                          camera=cam,\n",
    "                          laser=laser\n",
    "                          ) as iw:\n",
    "    iw.write(img, particles=part)"
   ]
  },
  {
   "cell_type": "markdown",
   "id": "e8a44b61-bb2a-45cb-a8a8-408bca5ea294",
   "metadata": {},
   "source": [
    "Note: If the image needs to be indicated as an *A* or *B* image, use `writeA` or `writeB` instead of `write`."
   ]
  },
  {
   "cell_type": "markdown",
   "id": "82a1a1f2-8df2-420e-9120-64e88c834722",
   "metadata": {},
   "source": [
    "### Write to HDF5"
   ]
  },
  {
   "cell_type": "code",
   "execution_count": 9,
   "id": "f093a3d5-0f1e-45b7-b5f0-df9697312316",
   "metadata": {},
   "outputs": [],
   "source": [
    "with synpivimage.HDF5Writer(filename='single_img.hdf',\n",
    "                            camera=cam,\n",
    "                            laser=laser,\n",
    "                            overwrite=True) as h5:\n",
    "    h5.writeA(img, particles=part)"
   ]
  },
  {
   "cell_type": "markdown",
   "id": "9aaa023a-3902-447f-871e-a7c3c15ad1df",
   "metadata": {},
   "source": [
    "## Read saved data\n",
    "\n",
    "The image can be read with `cv2`. The settings and particles can be read with `synpivimage`. Note, that the latter is stored as json-ld files, which allow anyone (human or machine) to read the data. The keys in the json document are put into context. More on this [here](https://json-ld.org/).\n",
    "\n",
    "### Read image\n",
    "\n",
    "Here's how to read the image:"
   ]
  },
  {
   "cell_type": "code",
   "execution_count": null,
   "id": "06817103-a0ce-4676-bfb5-ba31bf8d3eee",
   "metadata": {},
   "outputs": [],
   "source": [
    "import cv2"
   ]
  },
  {
   "cell_type": "code",
   "execution_count": null,
   "id": "0957e435-5fd3-48ac-98e6-a68cc15cc051",
   "metadata": {},
   "outputs": [],
   "source": [
    "img_loaded = cv2.imread('single_img/imgs/img_00.tif', -1)"
   ]
  },
  {
   "cell_type": "code",
   "execution_count": null,
   "id": "990e6263-53e5-4fd2-bb8b-f425eae27c13",
   "metadata": {},
   "outputs": [],
   "source": [
    "plt.imshow(img_loaded, cmap='gray')"
   ]
  },
  {
   "cell_type": "markdown",
   "id": "9e51f280-7c71-49bb-a6bb-181492485183",
   "metadata": {},
   "source": [
    "### Read the setup\n",
    "\n",
    "The setup is stored as JSON files (actually JSON-LD files, but the suffix is .json). Here's how you can read them:"
   ]
  },
  {
   "cell_type": "code",
   "execution_count": null,
   "id": "88997766-56c8-4c8a-8b93-a0b0df99b83b",
   "metadata": {},
   "outputs": [],
   "source": [
    "loaded_laser = synpivimage.Laser.load_jsonld('single_img/laser.json')\n",
    "loaded_camera = synpivimage.Camera.load_jsonld('single_img/camera.json')"
   ]
  },
  {
   "cell_type": "markdown",
   "id": "9d2927e9-27f8-4044-893f-b1ae89f56d0e",
   "metadata": {},
   "source": [
    "**Experts:** If you want to know how it is done, the following parts will show, what is going on behind `load_jsonld`:\n",
    "\n",
    "In the background the `rdflib` library is used query the json-ld file with SPARQL. The library `ontolutils` further helps us with that and returns a dictionary for the type of thing we are looking for. For the laser, we are searching for types \"pivmeta:LaserModel\":"
   ]
  },
  {
   "cell_type": "code",
   "execution_count": null,
   "id": "6f365b97-1d72-46b2-9d86-87629c6daffa",
   "metadata": {},
   "outputs": [],
   "source": [
    "import ontolutils"
   ]
  },
  {
   "cell_type": "code",
   "execution_count": null,
   "id": "1c496a67-60a7-4f7b-a699-0b3431172d63",
   "metadata": {},
   "outputs": [],
   "source": [
    "query_dict = ontolutils.dquery(\n",
    "    'pivmeta:LaserModel',\n",
    "    'single_img/laser.json',\n",
    "    context={'pivmeta': 'https://matthiasprobst.github.io/pivmeta#'}\n",
    ")\n",
    "\n",
    "for p in query_dict[0]['hasParameter']:\n",
    "    print(f\"{p['label']:14s}: {p['hasNumericalValue']} (std name: {p['hasStandardName']})\")"
   ]
  },
  {
   "cell_type": "markdown",
   "id": "e463637a-e365-4622-bfcd-92d32e0a1f38",
   "metadata": {},
   "source": [
    "Note: Theoretically, there might be many lasers stored in the JSON file, this is why we get a list of dictionaries!"
   ]
  },
  {
   "cell_type": "markdown",
   "id": "35038672-653f-4c06-b7bd-1781f5c1922b",
   "metadata": {},
   "source": [
    "More useful than the above is retrieving the parameters as a dictionaries with the label as key (the label turns out to be exactly the object attributes of our components)."
   ]
  },
  {
   "cell_type": "code",
   "execution_count": null,
   "id": "0d0fd51e-eec8-492b-b750-994f3ec6877a",
   "metadata": {},
   "outputs": [],
   "source": [
    "params = {p['label']: p.get('hasNumericalValue', p.get('hasStringValue', None)) for p in query_dict[0]['hasParameter']}\n",
    "params"
   ]
  },
  {
   "cell_type": "markdown",
   "id": "f3922544-57c6-465b-8871-8b856ab7ca80",
   "metadata": {},
   "source": [
    "In the next step we can pass this to out component, in this case the laser:"
   ]
  },
  {
   "cell_type": "code",
   "execution_count": null,
   "id": "78e56ba8-3573-4271-b386-68055d5f3c03",
   "metadata": {},
   "outputs": [],
   "source": [
    "synpivimage.Laser(**params)"
   ]
  },
  {
   "cell_type": "code",
   "execution_count": null,
   "id": "071100eb-4d78-4846-9841-041e329b5563",
   "metadata": {},
   "outputs": [],
   "source": []
  }
 ],
 "metadata": {
  "kernelspec": {
   "display_name": "Python 3 (ipykernel)",
   "language": "python",
   "name": "python3"
  },
  "language_info": {
   "codemirror_mode": {
    "name": "ipython",
    "version": 3
   },
   "file_extension": ".py",
   "mimetype": "text/x-python",
   "name": "python",
   "nbconvert_exporter": "python",
   "pygments_lexer": "ipython3",
   "version": "3.8.18"
  }
 },
 "nbformat": 4,
 "nbformat_minor": 5
}
