{
 "cells": [
  {
   "cell_type": "markdown",
   "id": "849bbe35-6100-4c1a-9da9-d986f0e22eeb",
   "metadata": {},
   "source": [
    "# Take a single image\n",
    "\n",
    "Learn how to generate a single image."
   ]
  },
  {
   "cell_type": "markdown",
   "id": "767fcb72-c3ba-4e8c-91e0-79c1b232aa79",
   "metadata": {},
   "source": [
    "## Imports"
   ]
  },
  {
   "cell_type": "code",
   "execution_count": 1,
   "id": "416885b3-9f17-4323-860b-49619687a584",
   "metadata": {},
   "outputs": [],
   "source": [
    "import numpy as np\n",
    "\n",
    "import synpivimage"
   ]
  },
  {
   "cell_type": "markdown",
   "id": "310aa26a-2ee6-4c58-b819-b212b6252be5",
   "metadata": {},
   "source": [
    "## Set up the synthetic PIV components\n",
    "A synthetic PIV setup consists of\n",
    "\n",
    "- [laser](Laser.ipynb) and\n",
    "- [camera](Camera.ipynb).\n",
    "\n",
    "Let's set up both components. If you need explanation for the parameters, please visit the documentation for [laser](Laser.ipynb) and [camera](Camera.ipynb) respectively.\n",
    "\n",
    "We will use some standard parameters and choose a small image/sensor of 16x16 pixels:"
   ]
  },
  {
   "cell_type": "code",
   "execution_count": 2,
   "id": "de7eebd2-ecf2-4836-894e-6081912f5678",
   "metadata": {},
   "outputs": [],
   "source": [
    "cam = synpivimage.Camera(\n",
    "    nx=16,\n",
    "    ny=16,\n",
    "    bit_depth=16,\n",
    "    qe=1,\n",
    "    sensitivity=1,\n",
    "    baseline_noise=50,\n",
    "    dark_noise=10,\n",
    "    shot_noise=False,\n",
    "    fill_ratio_x=1.0,\n",
    "    fill_ratio_y=1.0,\n",
    "    particle_image_diameter=2,\n",
    "    seed=100\n",
    ")\n",
    "\n",
    "laser = synpivimage.Laser(\n",
    "    width=0.25,\n",
    "    shape_factor=2\n",
    ")"
   ]
  },
  {
   "cell_type": "markdown",
   "id": "335f5cb3-d9d3-41cf-b828-68a76e0c891c",
   "metadata": {},
   "source": [
    "## Position particles\n",
    "\n",
    "Next, we need to define the position and size of the **particles** within the sensor plane.\n",
    "\n",
    "**By intention**, we create particles *outside* the camera FOV, which are coordinates below 0 or larger than `cam.nx` or `cam.ny`. By taking the image later, the algorithm will flag particles, that are not illuminated. "
   ]
  },
  {
   "cell_type": "code",
   "execution_count": 3,
   "id": "c816e51d-31d0-4d6c-9aec-4d77a1e2d796",
   "metadata": {},
   "outputs": [],
   "source": [
    "n = 100\n",
    "particles = synpivimage.Particles(\n",
    "    x=np.random.uniform(-5, cam.nx+4, n),\n",
    "    y=np.random.uniform(-5, cam.ny+4, n),\n",
    "    z=np.zeros(n),\n",
    "    size=np.ones(n)*2.5\n",
    ")"
   ]
  },
  {
   "cell_type": "markdown",
   "id": "009d1fb2-8223-4aa6-ae04-6f2447403415",
   "metadata": {},
   "source": [
    "## Take the image\n",
    "\n",
    "To take the image, call `take_image` and pass the above components. You need to define the theoretical particle count of an image particle located at z=0."
   ]
  },
  {
   "cell_type": "code",
   "execution_count": 4,
   "id": "dcbe4edd-c5f6-4175-8d7b-8ff44da04499",
   "metadata": {},
   "outputs": [],
   "source": [
    "img, part = synpivimage.take_image(\n",
    "    laser,\n",
    "    cam,\n",
    "    particles,\n",
    "    particle_peak_count=1000)"
   ]
  },
  {
   "cell_type": "markdown",
   "id": "e2b8b27b-d8bc-483c-bb50-34493f64acd3",
   "metadata": {},
   "source": [
    "Let's plot the image. Not all particles are illuminated. We will mark the illuminated ones green in the plot below. All illuminated (active) particles can be accessed using the flag via the property `active`:"
   ]
  },
  {
   "cell_type": "code",
   "execution_count": 5,
   "id": "f2161609-b026-4897-b298-ff2916847f12",
   "metadata": {},
   "outputs": [],
   "source": [
    "import matplotlib.pyplot as plt"
   ]
  },
  {
   "cell_type": "code",
   "execution_count": 6,
   "id": "ee5b98e8-cb3d-4cba-811b-a9d724dd0877",
   "metadata": {},
   "outputs": [
    {
     "data": {
      "text/plain": [
       "<matplotlib.collections.PathCollection at 0x2bd7fce1130>"
      ]
     },
     "execution_count": 6,
     "metadata": {},
     "output_type": "execute_result"
    },
    {
     "data": {
      "image/png": "[encoded data removed]",
      "text/plain": [
       "<Figure size 640x480 with 1 Axes>"
      ]
     },
     "metadata": {},
     "output_type": "display_data"
    }
   ],
   "source": [
    "plt.imshow(img, cmap='gray')\n",
    "plt.scatter(part.x[part.active],\n",
    "            part.y[part.active],\n",
    "            marker='+', color='g')\n",
    "plt.scatter(part.x[~part.active],\n",
    "            part.y[~part.active],\n",
    "            marker='+', color='r')"
   ]
  },
  {
   "cell_type": "markdown",
   "id": "67d6236c-7321-455e-a361-1292ce49b608",
   "metadata": {},
   "source": [
    "## Save the image and the setup\n",
    "\n",
    "We save the image including the camera and laser settings like this:"
   ]
  },
  {
   "cell_type": "code",
   "execution_count": 7,
   "id": "afc492e8-4b10-4321-949e-e7bd282f18ad",
   "metadata": {},
   "outputs": [],
   "source": [
    "with synpivimage.Imwriter(case_name='single_img',\n",
    "                          image_dir='.',\n",
    "                          suffix='.tif',\n",
    "                          overwrite=True,\n",
    "                          camera=cam,\n",
    "                          laser=laser) as iw:\n",
    "    iw.write(0, img, particles=part)"
   ]
  },
  {
   "cell_type": "markdown",
   "id": "e8a44b61-bb2a-45cb-a8a8-408bca5ea294",
   "metadata": {},
   "source": [
    "Note: If the image needs to be indicated as an *A* or *B* image, use `writeA` or `writeB` instead of `write`."
   ]
  },
  {
   "cell_type": "markdown",
   "id": "82a1a1f2-8df2-420e-9120-64e88c834722",
   "metadata": {},
   "source": [
    "### Write to HDF5"
   ]
  },
  {
   "cell_type": "code",
   "execution_count": 8,
   "id": "cde12e90-5e47-432e-96ef-989c57ec9642",
   "metadata": {},
   "outputs": [],
   "source": [
    "import h5rdmtoolbox as h5tbx"
   ]
  },
  {
   "cell_type": "code",
   "execution_count": 11,
   "id": "f093a3d5-0f1e-45b7-b5f0-df9697312316",
   "metadata": {},
   "outputs": [
    {
     "data": {
      "text/html": [
       "<head><style>/*\r\n",
       "CSS inspired by xarray: https://github.com/pydata/xarray\r\n",
       "*/\r\n",
       ".h5tb-header > div,\r\n",
       ".h5tb-header > ul {\r\n",
       "    display: inline;\r\n",
       "    margin-top: 0;\r\n",
       "    margin-bottom: 0;\r\n",
       "}\r\n",
       "\r\n",
       ".h5tb-dataarray-cls,\r\n",
       ".h5tb-dataarray-name {\r\n",
       "    margin-left: 2px;\r\n",
       "    margin-right: 10px;\r\n",
       "}\r\n",
       "\r\n",
       ".h5tb-dataarray-name {\r\n",
       "    color: #000;\r\n",
       "}\r\n",
       "\r\n",
       ".h5grp-sections {\r\n",
       "    list-style: none;\r\n",
       "    padding: 3px;\r\n",
       "    margin: 0;\r\n",
       "}\r\n",
       "\r\n",
       ".h5grp-sections input {\r\n",
       "    display: none;\r\n",
       "}\r\n",
       "\r\n",
       ".h5grp-sections label {\r\n",
       "    display: inline;\r\n",
       "}\r\n",
       "\r\n",
       ".h5grp-sections > li > input + label > span {\r\n",
       "    display: inline;\r\n",
       "    margin-left: 4px;\r\n",
       "}\r\n",
       "\r\n",
       ".h5grp-sections > li > input:checked + label > span {\r\n",
       "    display: none;\r\n",
       "}\r\n",
       "\r\n",
       ".h5grp-sections input:enabled + label {\r\n",
       "    cursor: pointer;\r\n",
       "}\r\n",
       "\r\n",
       ".h5grp-sections input:not(.h5tb-values-in) ~ ul {\r\n",
       "    display: none;\r\n",
       "}\r\n",
       "\r\n",
       ".h5grp-sections input:not(.h5tb-values-in):checked ~ ul {\r\n",
       "    display: block;\r\n",
       "}\r\n",
       "\r\n",
       ".h5grp-sections > li > input + label {\r\n",
       "    width: 140px;\r\n",
       "    color: #555;\r\n",
       "    font-weight: 500;\r\n",
       "    padding: 4px 0 2px 0;\r\n",
       "}\r\n",
       "\r\n",
       "\r\n",
       ".h5grp-sections > li > input + label:before {\r\n",
       "    display: inline-block;\r\n",
       "    content: '+';\r\n",
       "    font-size: 11px;\r\n",
       "    width: 15px;\r\n",
       "    text-align: center;\r\n",
       "}\r\n",
       "\r\n",
       ".h5grp-sections > li > input:disabled + label:before {\r\n",
       "    color: #777;\r\n",
       "}\r\n",
       "\r\n",
       ".h5grp-sections > li > input:checked + label:before {\r\n",
       "    content: '-';\r\n",
       "}\r\n",
       "\r\n",
       ".h5tb-dim-list {\r\n",
       "    display: inline-block !important;\r\n",
       "    list-style: none;\r\n",
       "    padding: 0;\r\n",
       "}\r\n",
       "\r\n",
       ".h5tb-dim-list li {\r\n",
       "    display: inline-block;\r\n",
       "    padding: 0;\r\n",
       "    margin: 0;\r\n",
       "}\r\n",
       "\r\n",
       ".h5tb-dim-list:before {\r\n",
       "    content: '(';\r\n",
       "}\r\n",
       "\r\n",
       ".h5tb-dim-list:after {\r\n",
       "    content: ')';\r\n",
       "}\r\n",
       "\r\n",
       ".h5tb-dim-list li:not(:last-child):after {\r\n",
       "    content: ',';\r\n",
       "}\r\n",
       "\r\n",
       ".h5tb-has-index {\r\n",
       "    text-decoration: underline;\r\n",
       "}\r\n",
       "\r\n",
       ".h5tb-var-list {\r\n",
       "    list-style: none;\r\n",
       "    padding: 0;\r\n",
       "    margin: 0;\r\n",
       "}\r\n",
       "\r\n",
       ".h5tb-var-list > li {\r\n",
       "    background-color: #fcfcfc;\r\n",
       "    overflow: hidden;\r\n",
       "}\r\n",
       "\r\n",
       ".h5tb-var-list > li:nth-child(odd) {\r\n",
       "    background-color: #efefef;\r\n",
       "}\r\n",
       "\r\n",
       ".h5tb-var-list li:hover {\r\n",
       "    background-color: rgba(3, 169, 244, .2);\r\n",
       "}\r\n",
       "\r\n",
       ".h5tb-var-list li > span {\r\n",
       "    display: inline-block;\r\n",
       "}\r\n",
       "\r\n",
       "input.h5tb-varname-in + label {\r\n",
       "    width: 140px;\r\n",
       "    padding-left: 0;\r\n",
       "    font-weight: bold;\r\n",
       "}\r\n",
       "\r\n",
       ".h5tb-dataset {\r\n",
       "    width: 100px;\r\n",
       "}\r\n",
       "\r\n",
       ".h5tb-attributevalue {\r\n",
       "    width: 100px;\r\n",
       "    text-align: left;\r\n",
       "    color: #888;\r\n",
       "    white-space: nowrap;\r\n",
       "    font-size: 12px;\r\n",
       "}\r\n",
       "\r\n",
       "input.h5tb-varname-in + label:before {\r\n",
       "    content: ' ';\r\n",
       "    display: inline-block;\r\n",
       "    font-size: 11px;\r\n",
       "    width: 15px;\r\n",
       "    padding-left: 2px;\r\n",
       "    padding-right: 2px;\r\n",
       "    text-align: center;\r\n",
       "    color: #aaa;\r\n",
       "    text-decoration: none !important;\r\n",
       "}\r\n",
       "\r\n",
       "input.h5tb-varname-in:enabled + label:hover:before {\r\n",
       "    color: #000;\r\n",
       "}\r\n",
       "\r\n",
       "input.h5tb-varname-in:checked + label:before {\r\n",
       "    color: #ccc;\r\n",
       "}\r\n",
       "\r\n",
       ".h5tb-dims {\r\n",
       "    width: 280px;\r\n",
       "    white-space: nowrap;\r\n",
       "}\r\n",
       "\r\n",
       ".h5tb-attr-list {\r\n",
       "    list-style: none;\r\n",
       "    background-color: rgba(0,0,0,.0);\r\n",
       "    padding-bottom: 6px;\r\n",
       "    color: #6a6c73;\r\n",
       "}\r\n",
       "\r\n",
       ".h5tb-attr-list li,\r\n",
       ".h5tb-attr-list li:hover {\r\n",
       "    background-color: rgba(0,0,0,.0);\r\n",
       "}\r\n",
       "\r\n",
       "\r\n",
       "/* Tooltip container */\r\n",
       ".tooltip {\r\n",
       "position: relative;\r\n",
       "display: inline-block;\r\n",
       "cursor: pointer;\r\n",
       "}\r\n",
       "\r\n",
       "/* Tooltip text */\r\n",
       ".tooltip .tooltiptext {\r\n",
       "visibility: hidden;\r\n",
       "width: 300px;\r\n",
       "background-color: #555;\r\n",
       "color: #fff;\r\n",
       "text-align: center;\r\n",
       "border-radius: 6px;\r\n",
       "padding: 5px;\r\n",
       "position: absolute;\r\n",
       "z-index: 1;\r\n",
       "bottom: 125%;\r\n",
       "left: 50%;\r\n",
       "margin-left: -60px;\r\n",
       "opacity: 0;\r\n",
       "transition: opacity 0.3s;\r\n",
       "}\r\n",
       "\r\n",
       "/* Show the tooltip on hover */\r\n",
       ".tooltip:hover .tooltiptext {\r\n",
       "visibility: visible;\r\n",
       "opacity:  1;\r\n",
       "}</style></head>\n",
       "<div class='h5tb-warp'>\n",
       "\n",
       "              <ul style=\"list-style-type: none;\" class=\"h5grp-sections\">\n",
       "                    <li>\n",
       "                        <input id=\"group-ds--1433273951300\" type=\"checkbox\" checked>\n",
       "                        <label style=\"font-weight: bold\" for=\"group-ds--1433273951300\">\n",
       "                        /<span>(4)</span></label>\n",
       "                  \n",
       "\n",
       "                    <ul class=\"h5tb-attr-list\">\n",
       "                    </ul>\n",
       "\n",
       "              <ul style=\"list-style-type: none;\" class=\"h5grp-sections\">\n",
       "                    <li>\n",
       "                        <input id=\"group-ds-camera-1433274636300\" type=\"checkbox\" >\n",
       "                        <label style=\"font-weight: bold\" for=\"group-ds-camera-1433274636300\">\n",
       "                        camera<span>(12)</span></label>\n",
       "                  \n",
       "\n",
       "                    <ul class=\"h5tb-attr-list\">\n",
       "                    </ul>\n",
       "\n",
       "                <ul id=\"ds-1-/camera/baseline_noise-1433277247700\" class=\"h5tb-var-list\">\n",
       "                <input id=\"ds-2-/camera/baseline_noise-1433277252100\" class=\"h5tb-varname-in\" type=\"checkbox\" >\n",
       "                <label class='h5tb-varname' for=\"ds-2-/camera/baseline_noise-1433277252100\">baseline_noise</label>\n",
       "                <span class=\"h5tb-dims\">50.0 [] (float32)</span>\n",
       "                <ul class=\"h5tb-attr-list\"><li style=\"list-style-type: none; font-style: italic\">hasVariableDescription : Dark noise is the mean value of a gaussian noise model</li><li style=\"list-style-type: none; font-style: italic\">label : baseline_noise</li>\n",
       "                </ul>\n",
       "                </ul>\n",
       "\n",
       "                <ul id=\"ds-1-/camera/bit_depth-1433277926800\" class=\"h5tb-var-list\">\n",
       "                <input id=\"ds-2-/camera/bit_depth-1433277929100\" class=\"h5tb-varname-in\" type=\"checkbox\" >\n",
       "                <label class='h5tb-varname' for=\"ds-2-/camera/bit_depth-1433277929100\">bit_depth</label>\n",
       "                <span class=\"h5tb-dims\">16.0 [BIT] (float32)</span>\n",
       "                <ul class=\"h5tb-attr-list\"><li style=\"list-style-type: none; font-style: italic\">hasKindOfQuantity : InformationEntropy</li><li style=\"list-style-type: none; font-style: italic\">hasUnit : BIT</li><li style=\"list-style-type: none; font-style: italic\">label : bit_depth</li>\n",
       "                </ul>\n",
       "                </ul>\n",
       "\n",
       "                <ul id=\"ds-1-/camera/dark_noise-1433278356200\" class=\"h5tb-var-list\">\n",
       "                <input id=\"ds-2-/camera/dark_noise-1433278358700\" class=\"h5tb-varname-in\" type=\"checkbox\" >\n",
       "                <label class='h5tb-varname' for=\"ds-2-/camera/dark_noise-1433278358700\">dark_noise</label>\n",
       "                <span class=\"h5tb-dims\">10.0 [] (float32)</span>\n",
       "                <ul class=\"h5tb-attr-list\"><li style=\"list-style-type: none; font-style: italic\">hasVariableDescription : Dark noise is the standard deviation of a gaussian noise model</li><li style=\"list-style-type: none; font-style: italic\">label : dark_noise</li>\n",
       "                </ul>\n",
       "                </ul>\n",
       "\n",
       "                <ul id=\"ds-1-/camera/fill_ratio_x-1433278645800\" class=\"h5tb-var-list\">\n",
       "                <input id=\"ds-2-/camera/fill_ratio_x-1433278647900\" class=\"h5tb-varname-in\" type=\"checkbox\" >\n",
       "                <label class='h5tb-varname' for=\"ds-2-/camera/fill_ratio_x-1433278647900\">fill_ratio_x</label>\n",
       "                <span class=\"h5tb-dims\">1.0 [] (float32)</span>\n",
       "                <ul class=\"h5tb-attr-list\"><li style=\"list-style-type: none; font-style: italic\">hasStandardName : sensor_pixel_width_fill_factor</li><li style=\"list-style-type: none; font-style: italic\">label : fill_ratio_x</li>\n",
       "                </ul>\n",
       "                </ul>\n",
       "\n",
       "                <ul id=\"ds-1-/camera/fill_ratio_y-1433278923900\" class=\"h5tb-var-list\">\n",
       "                <input id=\"ds-2-/camera/fill_ratio_y-1433278926200\" class=\"h5tb-varname-in\" type=\"checkbox\" >\n",
       "                <label class='h5tb-varname' for=\"ds-2-/camera/fill_ratio_y-1433278926200\">fill_ratio_y</label>\n",
       "                <span class=\"h5tb-dims\">1.0 [] (float32)</span>\n",
       "                <ul class=\"h5tb-attr-list\"><li style=\"list-style-type: none; font-style: italic\">hasStandardName : sensor_pixel_height_fill_factor</li><li style=\"list-style-type: none; font-style: italic\">label : fill_ratio_y</li>\n",
       "                </ul>\n",
       "                </ul>\n",
       "\n",
       "                <ul id=\"ds-1-/camera/nx-1433279221200\" class=\"h5tb-var-list\">\n",
       "                <input id=\"ds-2-/camera/nx-1433279223400\" class=\"h5tb-varname-in\" type=\"checkbox\" >\n",
       "                <label class='h5tb-varname' for=\"ds-2-/camera/nx-1433279223400\">nx</label>\n",
       "                <span class=\"h5tb-dims\">16.0 [-] (float32)</span>\n",
       "                <ul class=\"h5tb-attr-list\"><li style=\"list-style-type: none; font-style: italic\">hasKindOfQuantity : Dimensionless</li><li style=\"list-style-type: none; font-style: italic\">hasStandardName : sensor_pixel_width</li><li style=\"list-style-type: none; font-style: italic\">hasUnit : -</li><li style=\"list-style-type: none; font-style: italic\">label : nx</li>\n",
       "                </ul>\n",
       "                </ul>\n",
       "\n",
       "                <ul id=\"ds-1-/camera/ny-1433279640700\" class=\"h5tb-var-list\">\n",
       "                <input id=\"ds-2-/camera/ny-1433279643000\" class=\"h5tb-varname-in\" type=\"checkbox\" >\n",
       "                <label class='h5tb-varname' for=\"ds-2-/camera/ny-1433279643000\">ny</label>\n",
       "                <span class=\"h5tb-dims\">16.0 [-] (float32)</span>\n",
       "                <ul class=\"h5tb-attr-list\"><li style=\"list-style-type: none; font-style: italic\">hasKindOfQuantity : Dimensionless</li><li style=\"list-style-type: none; font-style: italic\">hasStandardName : sensor_pixel_height</li><li style=\"list-style-type: none; font-style: italic\">hasUnit : -</li><li style=\"list-style-type: none; font-style: italic\">label : ny</li>\n",
       "                </ul>\n",
       "                </ul>\n",
       "\n",
       "                <ul id=\"ds-1-/camera/particle_image_diameter-1433280075000\" class=\"h5tb-var-list\">\n",
       "                <input id=\"ds-2-/camera/particle_image_diameter-1433280077200\" class=\"h5tb-varname-in\" type=\"checkbox\" >\n",
       "                <label class='h5tb-varname' for=\"ds-2-/camera/particle_image_diameter-1433280077200\">particle_image_diameter</label>\n",
       "                <span class=\"h5tb-dims\">2.0 [] (float32)</span>\n",
       "                <ul class=\"h5tb-attr-list\"><li style=\"list-style-type: none; font-style: italic\">hasStandardName : image_particle_diameter</li><li style=\"list-style-type: none; font-style: italic\">label : particle_image_diameter</li>\n",
       "                </ul>\n",
       "                </ul>\n",
       "\n",
       "                <ul id=\"ds-1-/camera/qe-1433280353200\" class=\"h5tb-var-list\">\n",
       "                <input id=\"ds-2-/camera/qe-1433280355400\" class=\"h5tb-varname-in\" type=\"checkbox\" >\n",
       "                <label class='h5tb-varname' for=\"ds-2-/camera/qe-1433280355400\">qe</label>\n",
       "                <span class=\"h5tb-dims\">1.0 [] (float32)</span>\n",
       "                <ul class=\"h5tb-attr-list\"><li style=\"list-style-type: none; font-style: italic\">hasVariableDescription : quantum efficiency</li><li style=\"list-style-type: none; font-style: italic\">label : qe</li>\n",
       "                </ul>\n",
       "                </ul>\n",
       "\n",
       "                <ul id=\"ds-1-/camera/seed-1433280623800\" class=\"h5tb-var-list\">\n",
       "                <input id=\"ds-2-/camera/seed-1433280626000\" class=\"h5tb-varname-in\" type=\"checkbox\" >\n",
       "                <label class='h5tb-varname' for=\"ds-2-/camera/seed-1433280626000\">seed</label>\n",
       "                <span class=\"h5tb-dims\">100.0 [] (float32)</span>\n",
       "                <ul class=\"h5tb-attr-list\"><li style=\"list-style-type: none; font-style: italic\">label : seed</li>\n",
       "                </ul>\n",
       "                </ul>\n",
       "\n",
       "                <ul id=\"ds-1-/camera/sensitivity-1433280830700\" class=\"h5tb-var-list\">\n",
       "                <input id=\"ds-2-/camera/sensitivity-1433280832900\" class=\"h5tb-varname-in\" type=\"checkbox\" >\n",
       "                <label class='h5tb-varname' for=\"ds-2-/camera/sensitivity-1433280832900\">sensitivity</label>\n",
       "                <span class=\"h5tb-dims\">1.0 [] (float32)</span>\n",
       "                <ul class=\"h5tb-attr-list\"><li style=\"list-style-type: none; font-style: italic\">label : sensitivity</li>\n",
       "                </ul>\n",
       "                </ul>\n",
       "\n",
       "                <ul id=\"ds-1-/camera/shot_noise-1433281058300\" class=\"h5tb-var-list\">\n",
       "                <input id=\"ds-2-/camera/shot_noise-1433281060500\" class=\"h5tb-varname-in\" type=\"checkbox\" >\n",
       "                <label class='h5tb-varname' for=\"ds-2-/camera/shot_noise-1433281060500\">shot_noise</label>\n",
       "                <span class=\"h5tb-dims\">0.0 [] (float32)</span>\n",
       "                <ul class=\"h5tb-attr-list\"><li style=\"list-style-type: none; font-style: italic\">hasStringValue : false</li><li style=\"list-style-type: none; font-style: italic\">label : shot_noise</li>\n",
       "                </ul>\n",
       "                </ul>\n",
       "</li>\n",
       "</ul>\n",
       "\n",
       "              <ul style=\"list-style-type: none;\" class=\"h5grp-sections\">\n",
       "                    <li>\n",
       "                        <input id=\"group-ds-images-1433281400400\" type=\"checkbox\" >\n",
       "                        <label style=\"font-weight: bold\" for=\"group-ds-images-1433281400400\">\n",
       "                        images<span>(4)</span></label>\n",
       "                  \n",
       "\n",
       "                    <ul class=\"h5tb-attr-list\">\n",
       "                    </ul>\n",
       "\n",
       "                <ul id=\"ds-1-/images/image_index-1433282372800\" class=\"h5tb-var-list\">\n",
       "                    <input id=\"ds-2-/images/image_index-1433282375000\" class=\"h5tb-varname-in\" type=\"checkbox\" >\n",
       "                    <label class='h5tb-varname' for=\"ds-2-/images/image_index-1433282375000\">image_index</label>\n",
       "                    <span class=\"h5tb-dims\">(1) [int32]</span>\n",
       "                <ul class=\"h5tb-attr-list\">\n",
       "                </ul>\n",
       "                </ul>\n",
       "\n",
       "                <ul id=\"ds-1-/images/img_A-1433282713400\" class=\"h5tb-var-list\">\n",
       "                    <input id=\"ds-2-/images/img_A-1433282715500\" class=\"h5tb-varname-in\" type=\"checkbox\" >\n",
       "                    <label class='h5tb-varname' for=\"ds-2-/images/img_A-1433282715500\">img_A</label>\n",
       "                    <span class=\"h5tb-dims\">(image_index: 1, ny: 16, nx: 16) [uint16]</span>\n",
       "                <ul class=\"h5tb-attr-list\">\n",
       "                </ul>\n",
       "                </ul>\n",
       "\n",
       "                <ul id=\"ds-1-/images/nx-1433282811900\" class=\"h5tb-var-list\">\n",
       "                    <input id=\"ds-2-/images/nx-1433282814000\" class=\"h5tb-varname-in\" type=\"checkbox\" >\n",
       "                    <label class='h5tb-varname' for=\"ds-2-/images/nx-1433282814000\">nx</label>\n",
       "                    <span class=\"h5tb-dims\">(16) [int32]</span>\n",
       "                <ul class=\"h5tb-attr-list\">\n",
       "                </ul>\n",
       "                </ul>\n",
       "\n",
       "                <ul id=\"ds-1-/images/ny-1433282902100\" class=\"h5tb-var-list\">\n",
       "                    <input id=\"ds-2-/images/ny-1433282904100\" class=\"h5tb-varname-in\" type=\"checkbox\" >\n",
       "                    <label class='h5tb-varname' for=\"ds-2-/images/ny-1433282904100\">ny</label>\n",
       "                    <span class=\"h5tb-dims\">(16) [int32]</span>\n",
       "                <ul class=\"h5tb-attr-list\">\n",
       "                </ul>\n",
       "                </ul>\n",
       "</li>\n",
       "</ul>\n",
       "\n",
       "              <ul style=\"list-style-type: none;\" class=\"h5grp-sections\">\n",
       "                    <li>\n",
       "                        <input id=\"group-ds-laser-1433282980800\" type=\"checkbox\" >\n",
       "                        <label style=\"font-weight: bold\" for=\"group-ds-laser-1433282980800\">\n",
       "                        laser<span>(2)</span></label>\n",
       "                  \n",
       "\n",
       "                    <ul class=\"h5tb-attr-list\">\n",
       "                    </ul>\n",
       "\n",
       "                <ul id=\"ds-1-/laser/shape_factor-1433283484900\" class=\"h5tb-var-list\">\n",
       "                <input id=\"ds-2-/laser/shape_factor-1433283487300\" class=\"h5tb-varname-in\" type=\"checkbox\" >\n",
       "                <label class='h5tb-varname' for=\"ds-2-/laser/shape_factor-1433283487300\">shape_factor</label>\n",
       "                <span class=\"h5tb-dims\">2.0 [] (float32)</span>\n",
       "                <ul class=\"h5tb-attr-list\"><li style=\"list-style-type: none; font-style: italic\">hasKindOfQuantity : DimensionlessUnit</li><li style=\"list-style-type: none; font-style: italic\">hasStandardName : model_laser_sheet_shape_factor</li><li style=\"list-style-type: none; font-style: italic\">hasUnit : </li><li style=\"list-style-type: none; font-style: italic\">hasVariableDescription : The shape factor describes the laser beam shape. A value of 1 describes Gaussian beam shape. High...</li><li style=\"list-style-type: none; font-style: italic\">label : shape_factor</li>\n",
       "                </ul>\n",
       "                </ul>\n",
       "\n",
       "                <ul id=\"ds-1-/laser/width-1433284030000\" class=\"h5tb-var-list\">\n",
       "                <input id=\"ds-2-/laser/width-1433284032400\" class=\"h5tb-varname-in\" type=\"checkbox\" >\n",
       "                <label class='h5tb-varname' for=\"ds-2-/laser/width-1433284032400\">width</label>\n",
       "                <span class=\"h5tb-dims\">0.25 [mm] (float32)</span>\n",
       "                <ul class=\"h5tb-attr-list\"><li style=\"list-style-type: none; font-style: italic\">hasKindOfQuantity : MilliM</li><li style=\"list-style-type: none; font-style: italic\">hasStandardName : model_laser_sheet_thickness</li><li style=\"list-style-type: none; font-style: italic\">hasUnit : mm</li><li style=\"list-style-type: none; font-style: italic\">hasVariableDescription : Laser width</li><li style=\"list-style-type: none; font-style: italic\">label : width</li>\n",
       "                </ul>\n",
       "                </ul>\n",
       "</li>\n",
       "</ul>\n",
       "\n",
       "              <ul style=\"list-style-type: none;\" class=\"h5grp-sections\">\n",
       "                    <li>\n",
       "                        <input id=\"group-ds-particles-1433284532500\" type=\"checkbox\" >\n",
       "                        <label style=\"font-weight: bold\" for=\"group-ds-particles-1433284532500\">\n",
       "                        particles<span>(1)</span></label>\n",
       "                  \n",
       "\n",
       "                    <ul class=\"h5tb-attr-list\">\n",
       "                    </ul>\n",
       "\n",
       "              <ul style=\"list-style-type: none;\" class=\"h5grp-sections\">\n",
       "                    <li>\n",
       "                        <input id=\"group-ds-A-1433284722900\" type=\"checkbox\" >\n",
       "                        <label style=\"font-weight: bold\" for=\"group-ds-A-1433284722900\">\n",
       "                        A<span>(9)</span></label>\n",
       "                  \n",
       "\n",
       "                    <ul class=\"h5tb-attr-list\">\n",
       "                    </ul>\n",
       "\n",
       "                <ul id=\"ds-1-/particles/A/flag-1433286481200\" class=\"h5tb-var-list\">\n",
       "                    <input id=\"ds-2-/particles/A/flag-1433286483600\" class=\"h5tb-varname-in\" type=\"checkbox\" >\n",
       "                    <label class='h5tb-varname' for=\"ds-2-/particles/A/flag-1433286483600\">flag</label>\n",
       "                    <span class=\"h5tb-dims\">(2, 100) [uint8]</span>\n",
       "                <ul class=\"h5tb-attr-list\">\n",
       "                </ul>\n",
       "                </ul>\n",
       "\n",
       "                <ul id=\"ds-1-/particles/A/image_electrons-1433286589400\" class=\"h5tb-var-list\">\n",
       "                    <input id=\"ds-2-/particles/A/image_electrons-1433286591300\" class=\"h5tb-varname-in\" type=\"checkbox\" >\n",
       "                    <label class='h5tb-varname' for=\"ds-2-/particles/A/image_electrons-1433286591300\">image_electrons</label>\n",
       "                    <span class=\"h5tb-dims\">(1, 100) [float32]</span>\n",
       "                <ul class=\"h5tb-attr-list\">\n",
       "                </ul>\n",
       "                </ul>\n",
       "\n",
       "                <ul id=\"ds-1-/particles/A/image_quantized_electrons-1433286686600\" class=\"h5tb-var-list\">\n",
       "                    <input id=\"ds-2-/particles/A/image_quantized_electrons-1433286688700\" class=\"h5tb-varname-in\" type=\"checkbox\" >\n",
       "                    <label class='h5tb-varname' for=\"ds-2-/particles/A/image_quantized_electrons-1433286688700\">image_quantized_electrons</label>\n",
       "                    <span class=\"h5tb-dims\">(1, 100) [float32]</span>\n",
       "                <ul class=\"h5tb-attr-list\">\n",
       "                </ul>\n",
       "                </ul>\n",
       "\n",
       "                <ul id=\"ds-1-/particles/A/max_image_photons-1433286781500\" class=\"h5tb-var-list\">\n",
       "                    <input id=\"ds-2-/particles/A/max_image_photons-1433286783400\" class=\"h5tb-varname-in\" type=\"checkbox\" >\n",
       "                    <label class='h5tb-varname' for=\"ds-2-/particles/A/max_image_photons-1433286783400\">max_image_photons</label>\n",
       "                    <span class=\"h5tb-dims\">(1, 100) [float32]</span>\n",
       "                <ul class=\"h5tb-attr-list\">\n",
       "                </ul>\n",
       "                </ul>\n",
       "\n",
       "                <ul id=\"ds-1-/particles/A/size-1433286873100\" class=\"h5tb-var-list\">\n",
       "                    <input id=\"ds-2-/particles/A/size-1433286875100\" class=\"h5tb-varname-in\" type=\"checkbox\" >\n",
       "                    <label class='h5tb-varname' for=\"ds-2-/particles/A/size-1433286875100\">size</label>\n",
       "                    <span class=\"h5tb-dims\">(1, 100) [float32]</span>\n",
       "                <ul class=\"h5tb-attr-list\">\n",
       "                </ul>\n",
       "                </ul>\n",
       "\n",
       "                <ul id=\"ds-1-/particles/A/source_intensity-1433286967400\" class=\"h5tb-var-list\">\n",
       "                    <input id=\"ds-2-/particles/A/source_intensity-1433286970300\" class=\"h5tb-varname-in\" type=\"checkbox\" >\n",
       "                    <label class='h5tb-varname' for=\"ds-2-/particles/A/source_intensity-1433286970300\">source_intensity</label>\n",
       "                    <span class=\"h5tb-dims\">(1, 100) [float32]</span>\n",
       "                <ul class=\"h5tb-attr-list\">\n",
       "                </ul>\n",
       "                </ul>\n",
       "\n",
       "                <ul id=\"ds-1-/particles/A/x-1433287108700\" class=\"h5tb-var-list\">\n",
       "                    <input id=\"ds-2-/particles/A/x-1433287110800\" class=\"h5tb-varname-in\" type=\"checkbox\" >\n",
       "                    <label class='h5tb-varname' for=\"ds-2-/particles/A/x-1433287110800\">x</label>\n",
       "                    <span class=\"h5tb-dims\">(1, 100) [float32]</span>\n",
       "                <ul class=\"h5tb-attr-list\">\n",
       "                </ul>\n",
       "                </ul>\n",
       "\n",
       "                <ul id=\"ds-1-/particles/A/y-1433287209900\" class=\"h5tb-var-list\">\n",
       "                    <input id=\"ds-2-/particles/A/y-1433287212000\" class=\"h5tb-varname-in\" type=\"checkbox\" >\n",
       "                    <label class='h5tb-varname' for=\"ds-2-/particles/A/y-1433287212000\">y</label>\n",
       "                    <span class=\"h5tb-dims\">(1, 100) [float32]</span>\n",
       "                <ul class=\"h5tb-attr-list\">\n",
       "                </ul>\n",
       "                </ul>\n",
       "\n",
       "                <ul id=\"ds-1-/particles/A/z-1433287302000\" class=\"h5tb-var-list\">\n",
       "                    <input id=\"ds-2-/particles/A/z-1433287304000\" class=\"h5tb-varname-in\" type=\"checkbox\" >\n",
       "                    <label class='h5tb-varname' for=\"ds-2-/particles/A/z-1433287304000\">z</label>\n",
       "                    <span class=\"h5tb-dims\">(1, 100) [float32]</span>\n",
       "                <ul class=\"h5tb-attr-list\">\n",
       "                </ul>\n",
       "                </ul>\n",
       "</li>\n",
       "</ul>\n",
       "</li>\n",
       "</ul>\n",
       "</li>\n",
       "</ul>\n",
       "</div>"
      ],
      "text/plain": [
       "<IPython.core.display.HTML object>"
      ]
     },
     "metadata": {},
     "output_type": "display_data"
    }
   ],
   "source": [
    "with synpivimage.HDF5Writer(filename='single_img.hdf',\n",
    "                            n_images=1,\n",
    "                            camera=cam,\n",
    "                            laser=laser,\n",
    "                            overwrite=True) as h5:\n",
    "    h5.writeA(0, img, particles=part)\n",
    "    h5.writeA(0, img, particles=part)\n",
    "\n",
    "h5tbx.dump('single_img.hdf')"
   ]
  },
  {
   "cell_type": "markdown",
   "id": "9aaa023a-3902-447f-871e-a7c3c15ad1df",
   "metadata": {},
   "source": [
    "## Read data\n",
    "\n",
    "The image can be read with `cv2`. The settings and particles can be read with `synpivimage`. Note, that the latter is stored as json-ld files, which allow anyone (human or machine) to read the data. The keys in the json document are put into context. More on this [here](https://json-ld.org/).\n",
    "\n",
    "### Read image\n",
    "\n",
    "To read the image data if stored as tif file, just use the open-cv package:"
   ]
  },
  {
   "cell_type": "code",
   "execution_count": 12,
   "id": "06817103-a0ce-4676-bfb5-ba31bf8d3eee",
   "metadata": {},
   "outputs": [],
   "source": [
    "import cv2"
   ]
  },
  {
   "cell_type": "code",
   "execution_count": 13,
   "id": "0957e435-5fd3-48ac-98e6-a68cc15cc051",
   "metadata": {},
   "outputs": [
    {
     "data": {
      "text/plain": [
       "<matplotlib.image.AxesImage at 0x2bd0730e430>"
      ]
     },
     "execution_count": 13,
     "metadata": {},
     "output_type": "execute_result"
    },
    {
     "data": {
      "image/png": "[encoded data removed]",
      "text/plain": [
       "<Figure size 640x480 with 1 Axes>"
      ]
     },
     "metadata": {},
     "output_type": "display_data"
    }
   ],
   "source": [
    "img_loaded = cv2.imread('single_img/imgs/img_000000.tif', -1)\n",
    "plt.imshow(img_loaded, cmap='gray')"
   ]
  },
  {
   "cell_type": "markdown",
   "id": "db09a58e-6b94-4957-8456-3826d9fb61fd",
   "metadata": {},
   "source": [
    "If data is stored in the HDF5 file, use `h5py` or `h5tbx`:"
   ]
  },
  {
   "cell_type": "code",
   "execution_count": 16,
   "id": "81c504aa-805b-40e5-ae06-bdddbb6db679",
   "metadata": {},
   "outputs": [
    {
     "data": {
      "text/plain": [
       "<matplotlib.collections.QuadMesh at 0x2bd0805c2b0>"
      ]
     },
     "execution_count": 16,
     "metadata": {},
     "output_type": "execute_result"
    },
    {
     "data": {
      "image/png": "[encoded data removed]",
      "text/plain": [
       "<Figure size 640x480 with 2 Axes>"
      ]
     },
     "metadata": {},
     "output_type": "display_data"
    }
   ],
   "source": [
    "with h5tbx.File('single_img.hdf') as h5:\n",
    "    imgAloaded = h5.images.img_A[()]\n",
    "imgAloaded.plot(cmap='gray')"
   ]
  },
  {
   "cell_type": "markdown",
   "id": "9e51f280-7c71-49bb-a6bb-181492485183",
   "metadata": {},
   "source": [
    "### Read the setup\n",
    "\n",
    "The setup can be stored in JSON files (actually JSON-LD files, but the suffix is .json). If you wrote data to HDF5, then simply read the datasets \"camera\" and \"laser\" with their attribute.\n",
    "\n",
    "In the following we will learn how to extract the data from the JSON-LD files using `ontolutils`"
   ]
  },
  {
   "cell_type": "code",
   "execution_count": 21,
   "id": "88997766-56c8-4c8a-8b93-a0b0df99b83b",
   "metadata": {},
   "outputs": [],
   "source": [
    "loaded_laser = synpivimage.Laser.load_jsonld('single_img/laser.json')\n",
    "loaded_camera = synpivimage.Camera.load_jsonld('single_img/camera.json')"
   ]
  },
  {
   "cell_type": "markdown",
   "id": "9d2927e9-27f8-4044-893f-b1ae89f56d0e",
   "metadata": {},
   "source": [
    "**Experts:** If you want to know how it is done, the following parts will show, what is going on behind `load_jsonld`:\n",
    "\n",
    "In the background the `rdflib` library is used query the json-ld file with SPARQL. The library `ontolutils` further helps us with that and returns a dictionary for the type of thing we are looking for. For the laser, we are searching for types \"pivmeta:LaserModel\":"
   ]
  },
  {
   "cell_type": "code",
   "execution_count": 22,
   "id": "6f365b97-1d72-46b2-9d86-87629c6daffa",
   "metadata": {},
   "outputs": [],
   "source": [
    "import ontolutils"
   ]
  },
  {
   "cell_type": "code",
   "execution_count": 23,
   "id": "1c496a67-60a7-4f7b-a699-0b3431172d63",
   "metadata": {},
   "outputs": [
    {
     "name": "stdout",
     "output_type": "stream",
     "text": [
      "width         : 0.25 (std name: https://matthiasprobst.github.io/pivmeta#model_laser_sheet_thickness)\n",
      "shape_factor  : 2 (std name: https://matthiasprobst.github.io/pivmeta#model_laser_sheet_shape_factor)\n"
     ]
    }
   ],
   "source": [
    "query_dict = ontolutils.dquery(\n",
    "    'pivmeta:LaserModel',\n",
    "    'single_img/laser.json',\n",
    "    context={'pivmeta': 'https://matthiasprobst.github.io/pivmeta#'}\n",
    ")\n",
    "\n",
    "for p in query_dict[0]['hasParameter']:\n",
    "    print(f\"{p['label']:14s}: {p['hasNumericalValue']} (std name: {p['hasStandardName']})\")"
   ]
  },
  {
   "cell_type": "markdown",
   "id": "e463637a-e365-4622-bfcd-92d32e0a1f38",
   "metadata": {},
   "source": [
    "Note: Theoretically, there might be many lasers stored in the JSON file, this is why we get a list of dictionaries!"
   ]
  },
  {
   "cell_type": "markdown",
   "id": "35038672-653f-4c06-b7bd-1781f5c1922b",
   "metadata": {},
   "source": [
    "More useful than the above is retrieving the parameters as a dictionaries with the label as key (the label turns out to be exactly the object attributes of our components)."
   ]
  },
  {
   "cell_type": "code",
   "execution_count": 24,
   "id": "0d0fd51e-eec8-492b-b750-994f3ec6877a",
   "metadata": {},
   "outputs": [
    {
     "data": {
      "text/plain": [
       "{'width': '0.25', 'shape_factor': '2'}"
      ]
     },
     "execution_count": 24,
     "metadata": {},
     "output_type": "execute_result"
    }
   ],
   "source": [
    "params = {p['label']: p.get('hasNumericalValue', p.get('hasStringValue', None)) for p in query_dict[0]['hasParameter']}\n",
    "params"
   ]
  },
  {
   "cell_type": "markdown",
   "id": "f3922544-57c6-465b-8871-8b856ab7ca80",
   "metadata": {},
   "source": [
    "In the next step we can pass this to out component, in this case the laser:"
   ]
  },
  {
   "cell_type": "code",
   "execution_count": 25,
   "id": "78e56ba8-3573-4271-b386-68055d5f3c03",
   "metadata": {},
   "outputs": [
    {
     "data": {
      "text/plain": [
       "Laser(shape_factor=2, width=0.25)"
      ]
     },
     "execution_count": 25,
     "metadata": {},
     "output_type": "execute_result"
    }
   ],
   "source": [
    "synpivimage.Laser(**params)"
   ]
  }
 ],
 "metadata": {
  "kernelspec": {
   "display_name": "Python 3 (ipykernel)",
   "language": "python",
   "name": "python3"
  },
  "language_info": {
   "codemirror_mode": {
    "name": "ipython",
    "version": 3
   },
   "file_extension": ".py",
   "mimetype": "text/x-python",
   "name": "python",
   "nbconvert_exporter": "python",
   "pygments_lexer": "ipython3",
   "version": "3.8.18"
  }
 },
 "nbformat": 4,
 "nbformat_minor": 5
}
