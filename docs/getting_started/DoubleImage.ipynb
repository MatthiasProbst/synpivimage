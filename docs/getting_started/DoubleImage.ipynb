{
 "cells": [
  {
   "cell_type": "markdown",
   "id": "aefb9966-7d7a-4d7b-add2-2c3637acbad5",
   "metadata": {},
   "source": [
    "# Double Image\n",
    "\n",
    "After we saw [how a single image](./SingleImage.ipynb) is taken, we can create the second one."
   ]
  },
  {
   "cell_type": "code",
   "execution_count": null,
   "id": "fa7b29b3-1275-42dc-a1b4-e086d7875318",
   "metadata": {},
   "outputs": [],
   "source": [
    "import numpy as np\n",
    "\n",
    "import synpivimage"
   ]
  },
  {
   "cell_type": "code",
   "execution_count": null,
   "id": "b7632a37-87a7-404b-ad7d-ce4e20a17160",
   "metadata": {},
   "outputs": [],
   "source": [
    "cam = synpivimage.Camera(\n",
    "    nx=256,\n",
    "    ny=256,\n",
    "    bit_depth=16,\n",
    "    qe=1,\n",
    "    sensitivity=1,\n",
    "    baseline_noise=50,\n",
    "    dark_noise=10,\n",
    "    shot_noise=False,\n",
    "    fill_ratio_x=1.0,\n",
    "    fill_ratio_y=1.0,\n",
    "    particle_image_diameter=4  # px\n",
    ")\n",
    "\n",
    "laser = synpivimage.Laser(\n",
    "    width=0.25,\n",
    "    shape_factor=2\n",
    ")"
   ]
  },
  {
   "cell_type": "code",
   "execution_count": null,
   "id": "b10320ec-2a99-4f04-8bf2-0635c84c6ea1",
   "metadata": {},
   "outputs": [],
   "source": [
    "n = 100\n",
    "particles = synpivimage.Particles(\n",
    "    x=np.random.uniform(-3, cam.nx-1, n),\n",
    "    y=np.random.uniform(-4, cam.ny-1, n),\n",
    "    z=np.zeros(n),\n",
    "    size=np.ones(n)*2,\n",
    ")"
   ]
  },
  {
   "cell_type": "markdown",
   "id": "4ba7894e-d561-4f2f-bba2-c52623e0341a",
   "metadata": {},
   "source": [
    "## Take image\n",
    "\n",
    "It is a simple as this: Just call `take_image` twice - but pass a new particle object to the second call. In this example, we will displace the particles by `dx=2.1` and `dy=3.4`.\n",
    "\n",
    "**Note,** that we intentionally seeded the particles outside the camera sensor (`x=np.random.uniform(-3, cam.nx-1, n)`). This is done, so that these particles can move into the field of view (FOV). Otherwise, the particles (A) would leave the FOV."
   ]
  },
  {
   "cell_type": "code",
   "execution_count": null,
   "id": "5b11b339-22c4-4957-b215-ed25910925cf",
   "metadata": {},
   "outputs": [],
   "source": [
    "imgA, partA = synpivimage.take_image(laser,\n",
    "                                     cam,\n",
    "                                     particles,\n",
    "                                     particle_peak_count=1000)\n",
    "\n",
    "displaced_particles = partA.displace(dx=2.1, dy=3.4)\n",
    "\n",
    "imgB, partB = synpivimage.take_image(laser,\n",
    "                                     cam,\n",
    "                                     displaced_particles,\n",
    "                                     particle_peak_count=1000)"
   ]
  },
  {
   "cell_type": "code",
   "execution_count": null,
   "id": "a7a29adc-77e9-412f-9444-2e22e543dfb4",
   "metadata": {},
   "outputs": [],
   "source": [
    "import matplotlib.pyplot as plt"
   ]
  },
  {
   "cell_type": "code",
   "execution_count": null,
   "id": "242139e4-83aa-4f80-acd4-c7ffc7e89e3c",
   "metadata": {},
   "outputs": [],
   "source": [
    "fig, axs = plt.subplots(1, 2)\n",
    "axs[0].imshow(imgA, cmap='gray')\n",
    "axs[1].imshow(imgB, cmap='gray')\n",
    "plt.show()"
   ]
  },
  {
   "cell_type": "markdown",
   "id": "66badf03-fc4f-4fb3-8f81-10988750114b",
   "metadata": {},
   "source": [
    "## The problem of particle density (ppp)\n",
    "\n",
    "The parameter `ppp` stands for particles per pixel and is an important parameter for PIV images. Until now, we always set the number of particles, which could have laid outside the FOV and would not have contributed to the ppp value.\n",
    "\n",
    "The current ppp-values in image A and B are:"
   ]
  },
  {
   "cell_type": "code",
   "execution_count": null,
   "id": "0f32d759-2553-4ddb-ab96-257938150960",
   "metadata": {},
   "outputs": [],
   "source": [
    "partA.get_ppp(cam.size), partB.get_ppp(cam.size)"
   ]
  },
  {
   "cell_type": "markdown",
   "id": "b2fee0fe-8e4c-423e-9c63-030f2ed5eaa3",
   "metadata": {},
   "source": [
    "What we generally want to do, is to set a ppp-value in advance and figure out the needed number of particles. This approach is implemented. All you need to do is, to pass the expected min. and max. displacement in each axis direction x, y, and z.\n",
    "\n",
    "For the above example and a ppp=0.1 this looks like this:"
   ]
  },
  {
   "cell_type": "code",
   "execution_count": null,
   "id": "62badd23-9d39-4c53-ad35-9e4d8975658a",
   "metadata": {},
   "outputs": [],
   "source": [
    "particles01 = synpivimage.Particles.generate(ppp=0.1, dx_max=[0, 2.1], dy_max=[0, 3.4], dz_max=[0, 0], camera=cam, laser=laser)\n",
    "particles01.get_ppp(cam.size)"
   ]
  },
  {
   "cell_type": "code",
   "execution_count": null,
   "id": "4f2a51b6-5511-4162-989c-03bad15d4a7b",
   "metadata": {},
   "outputs": [],
   "source": [
    "imgA, partA = synpivimage.take_image(laser,\n",
    "                                     cam,\n",
    "                                     particles01,  # we passed out new object here!\n",
    "                                     particle_peak_count=1000)\n",
    "\n",
    "displaced_particles = partA.displace(dx=2.1, dy=3.4)\n",
    "\n",
    "imgB, partB = synpivimage.take_image(laser,\n",
    "                                     cam,\n",
    "                                     displaced_particles,\n",
    "                                     particle_peak_count=1000)"
   ]
  },
  {
   "cell_type": "code",
   "execution_count": null,
   "id": "fdf3c979-9f52-4ae8-95e2-4da56b7baa6b",
   "metadata": {},
   "outputs": [],
   "source": [
    "fig, axs = plt.subplots(1, 2)\n",
    "axs[0].imshow(imgA, cmap='gray')\n",
    "axs[1].imshow(imgB, cmap='gray')\n",
    "plt.show()"
   ]
  },
  {
   "cell_type": "markdown",
   "id": "68fc9ea3-5e56-47d3-8b5f-cb6046f6a5bd",
   "metadata": {},
   "source": [
    "Let's check the ppp for both image:"
   ]
  },
  {
   "cell_type": "code",
   "execution_count": null,
   "id": "5d23d5b9-f537-4865-9ef2-f005e2b5482c",
   "metadata": {},
   "outputs": [],
   "source": [
    "partA.get_ppp(cam.size), partB.get_ppp(cam.size)"
   ]
  },
  {
   "cell_type": "markdown",
   "id": "c34bdec7-3ce5-4d07-9acf-dd2e7b883088",
   "metadata": {},
   "source": [
    "**Note:** For small images, the second (B) may have a smaller or larger *ppp*. One single particle missing or not has a big influence. For larger images, the *ppp* will be almost the same for both images A and B."
   ]
  },
  {
   "cell_type": "markdown",
   "id": "5e985f9d-6e51-45f1-8058-aef284e4adbb",
   "metadata": {},
   "source": [
    "## Save the double image(s)\n",
    "\n",
    "To illustrate the image saving procedure, we will create multiple double images:"
   ]
  },
  {
   "cell_type": "code",
   "execution_count": null,
   "id": "c8cb7106-cc01-4472-ae64-2e30f91280af",
   "metadata": {},
   "outputs": [],
   "source": [
    "particles01 = synpivimage.Particles.generate(ppp=0.1, dx_max=[0, 2.1], dy_max=[0, 3.4], dz_max=[0, 0], size=2, camera=cam, laser=laser)\n",
    "\n",
    "\n",
    "with synpivimage.Imwriter(case_name='double_images',\n",
    "                          camera=cam,\n",
    "                          laser=laser,\n",
    "                          overwrite=True) as iw:\n",
    "    for i in range(10):\n",
    "        \n",
    "        imgA, partA = synpivimage.take_image(\n",
    "            laser,\n",
    "            cam,\n",
    "            particles01,  # we passed out new object here!\n",
    "            particle_peak_count=1000)\n",
    "    \n",
    "        displaced_particles = partA.displace(dx=2.1, dy=3.4)\n",
    "        \n",
    "        imgB, partB = synpivimage.take_image(\n",
    "            laser,                                 \n",
    "            cam,\n",
    "            displaced_particles,\n",
    "            particle_peak_count=1000)\n",
    "\n",
    "        iw.writeA(index=i, img=imgA, particles=partA)\n",
    "        iw.writeB(index=i, img=imgB, particles=partB)\n",
    "\n",
    "        particles01.regenerate()"
   ]
  },
  {
   "cell_type": "code",
   "execution_count": null,
   "id": "2fe43419-1052-4857-8b66-13848e14f82b",
   "metadata": {},
   "outputs": [],
   "source": [
    "import pathlib\n",
    "import cv2"
   ]
  },
  {
   "cell_type": "code",
   "execution_count": null,
   "id": "ff9d213d-4977-4c43-9ea0-abdc72935e15",
   "metadata": {},
   "outputs": [],
   "source": [
    "fig, axs = plt.subplots(2, 10, sharex=True, sharey=True, \n",
    "                       figsize=(14, 4))\n",
    "\n",
    "imgAfilenames = sorted(pathlib.Path('double_images/imgs/').glob('*A.tif'))\n",
    "imgBfilenames = sorted(pathlib.Path('double_images/imgs/').glob('*B.tif'))\n",
    "for i, (A, B) in enumerate(zip(imgAfilenames, imgBfilenames)):\n",
    "    axs[0][i].imshow(cv2.imread(str(A), -1), cmap='gray')\n",
    "    axs[1][i].imshow(cv2.imread(str(B), -1), cmap='gray')"
   ]
  },
  {
   "cell_type": "code",
   "execution_count": null,
   "id": "8c4ec872-4ad0-4eb7-bc30-50c1a181a430",
   "metadata": {},
   "outputs": [],
   "source": []
  },
  {
   "cell_type": "code",
   "execution_count": null,
   "id": "8935743d-b43f-48b9-8fa9-6c9d5df4ee09",
   "metadata": {},
   "outputs": [],
   "source": []
  }
 ],
 "metadata": {
  "kernelspec": {
   "display_name": "Python 3 (ipykernel)",
   "language": "python",
   "name": "python3"
  },
  "language_info": {
   "codemirror_mode": {
    "name": "ipython",
    "version": 3
   },
   "file_extension": ".py",
   "mimetype": "text/x-python",
   "name": "python",
   "nbconvert_exporter": "python",
   "pygments_lexer": "ipython3",
   "version": "3.8.18"
  }
 },
 "nbformat": 4,
 "nbformat_minor": 5
}
