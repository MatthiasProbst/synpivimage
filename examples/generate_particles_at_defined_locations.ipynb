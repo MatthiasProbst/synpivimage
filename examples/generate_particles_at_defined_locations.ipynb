{
 "cells": [
  {
   "cell_type": "markdown",
   "id": "a2cd7486-89a8-4c1e-b484-cbd2a2af9380",
   "metadata": {},
   "source": [
    "# Generate particles at defined locations\n",
    "\n",
    "Sometime it is useful to generate images where the particle locations are not randomly generated but set by the user:"
   ]
  },
  {
   "cell_type": "code",
   "execution_count": null,
   "id": "155a00f5-e70c-458b-a8aa-cfd83e86b072",
   "metadata": {},
   "outputs": [],
   "source": [
    "import synpivimage as spi \n",
    "spi.__version__\n",
    "\n",
    "from pprint import pprint"
   ]
  },
  {
   "cell_type": "code",
   "execution_count": null,
   "id": "47ad12ff-5335-466b-af47-0d7711807282",
   "metadata": {},
   "outputs": [],
   "source": [
    "import os\n",
    "import numpy as np\n",
    "\n",
    "dataset_dir = 'example_data_dir_definedloc'"
   ]
  },
  {
   "cell_type": "code",
   "execution_count": null,
   "id": "85fd9b50-9c04-4551-9bfb-8a65ab3dfb93",
   "metadata": {},
   "outputs": [],
   "source": [
    "cfg = spi.DEFAULT_CFG\n",
    "\n",
    "cfg['bit_depth'] = 8\n",
    "cfg['nx'] = 25\n",
    "cfg['ny'] = 20\n",
    "cfg['sensor_gain'] = 1.0\n",
    "image_size = cfg['nx']*cfg['ny']\n",
    "cfg['particle_number'] = 10\n",
    "cfg['particle_size_illumination_dependency'] = True\n",
    "cfg['particle_position_file'] = 'mypositions.txt'\n",
    "cfg['square_image'] = False\n",
    "cfg"
   ]
  },
  {
   "cell_type": "code",
   "execution_count": null,
   "id": "b1b2b33c-d863-43da-9290-a35b4219b0f7",
   "metadata": {},
   "outputs": [],
   "source": [
    "CFGs = spi.ConfigManager([cfg], )\n",
    "CFGs"
   ]
  },
  {
   "cell_type": "code",
   "execution_count": null,
   "id": "de4983b8-6ee8-4cb1-9464-4304a2eae2f5",
   "metadata": {},
   "outputs": [],
   "source": [
    "hdf_filename = CFGs.to_hdf(dataset_dir, nproc=1, overwrite=True)"
   ]
  },
  {
   "cell_type": "code",
   "execution_count": null,
   "id": "c916242f-af2e-4cce-b4a3-16cee1ea5a57",
   "metadata": {},
   "outputs": [],
   "source": [
    "import h5rdmtoolbox as h5tbx\n",
    "h5tbx.__version__\n",
    "\n",
    "import matplotlib\n",
    "import matplotlib.pyplot as plt"
   ]
  },
  {
   "cell_type": "code",
   "execution_count": null,
   "id": "0b639df3-fdf8-43d8-ab2c-cdfa514a37f5",
   "metadata": {},
   "outputs": [],
   "source": [
    "with h5tbx.H5File(hdf_filename[0]) as h5:\n",
    "    pprint(h5.distinct('standard_name'))\n",
    "    # h5.find_one({'standard_name': 'synthetic_particle_image'})[:].plot(cmap='gray',norm=matplotlib.colors.LogNorm(), vmin=1, vmax=2**8)\n",
    "    plt.figure()\n",
    "    h5.find_one({'standard_name': 'synthetic_particle_image'})[:].plot(cmap='gray', vmax=2**8)\n",
    "    plt.text(1.8,10,'$d_p=1$', color='white', size=14)\n",
    "    plt.text(9.5,10,'2', color='white', size=14)\n",
    "    plt.text(14.5,10,'3', color='white', size=14)\n",
    "    plt.text(19.5,10,'4 px', color='white', size=14)\n",
    "    plt.axis('off')\n",
    "    plt.title('')"
   ]
  },
  {
   "cell_type": "code",
   "execution_count": null,
   "id": "dcd05061-6595-42d1-9862-48484b8bde07",
   "metadata": {},
   "outputs": [],
   "source": [
    "with h5tbx.H5File(hdf_filename[0]) as h5:\n",
    "    h5.find_one({'standard_name': 'synthetic_particle_image'})[0,5,:].plot(label='at pixel')\n",
    "    h5.find_one({'standard_name': 'synthetic_particle_image'})[0,15,:].plot(label='at half pixel')\n",
    "    plt.legend()"
   ]
  }
 ],
 "metadata": {
  "kernelspec": {
   "display_name": "Python 3 (ipykernel)",
   "language": "python",
   "name": "python3"
  },
  "language_info": {
   "codemirror_mode": {
    "name": "ipython",
    "version": 3
   },
   "file_extension": ".py",
   "mimetype": "text/x-python",
   "name": "python",
   "nbconvert_exporter": "python",
   "pygments_lexer": "ipython3",
   "version": "3.8.13"
  }
 },
 "nbformat": 4,
 "nbformat_minor": 5
}
