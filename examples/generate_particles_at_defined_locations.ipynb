{
 "cells": [
  {
   "cell_type": "markdown",
   "id": "a2cd7486-89a8-4c1e-b484-cbd2a2af9380",
   "metadata": {},
   "source": [
    "# Generate particles at defined locations\n",
    "\n",
    "Sometime it is useful to generate images where the particle locations are not randomly generated but set by the user:"
   ]
  },
  {
   "cell_type": "code",
   "execution_count": 1,
   "id": "155a00f5-e70c-458b-a8aa-cfd83e86b072",
   "metadata": {},
   "outputs": [],
   "source": [
    "import synpivimage as spi \n",
    "spi.__version__\n",
    "\n",
    "from pprint import pprint"
   ]
  },
  {
   "cell_type": "code",
   "execution_count": 2,
   "id": "47ad12ff-5335-466b-af47-0d7711807282",
   "metadata": {},
   "outputs": [],
   "source": [
    "import os\n",
    "import numpy as np\n",
    "\n",
    "dataset_dir = 'example_data_dir_definedloc'"
   ]
  },
  {
   "cell_type": "code",
   "execution_count": 3,
   "id": "85fd9b50-9c04-4551-9bfb-8a65ab3dfb93",
   "metadata": {},
   "outputs": [
    {
     "data": {
      "text/plain": [
       "{'ny': 20,\n",
       " 'nx': 25,\n",
       " 'square_image': False,\n",
       " 'bit_depth': 8,\n",
       " 'noise_baseline': 0.0,\n",
       " 'dark_noise': 0.0,\n",
       " 'sensitivity': 1,\n",
       " 'qe': 1,\n",
       " 'shot_noise': False,\n",
       " 'particle_number': 10,\n",
       " 'particle_size_mean': 2.5,\n",
       " 'particle_size_std': 0.25,\n",
       " 'laser_width': 3,\n",
       " 'laser_shape_factor': 2,\n",
       " 'sensor_gain': 1.0,\n",
       " 'particle_position_file': 'mypositions.txt',\n",
       " 'particle_size_illumination_dependency': True}"
      ]
     },
     "execution_count": 3,
     "metadata": {},
     "output_type": "execute_result"
    }
   ],
   "source": [
    "cfg = spi.DEFAULT_CFG\n",
    "\n",
    "cfg['bit_depth'] = 8\n",
    "cfg['nx'] = 25\n",
    "cfg['ny'] = 20\n",
    "cfg['sensor_gain'] = 1.0\n",
    "image_size = cfg['nx']*cfg['ny']\n",
    "cfg['particle_number'] = 10\n",
    "cfg['particle_size_illumination_dependency'] = True\n",
    "cfg['particle_position_file'] = 'mypositions.txt'\n",
    "cfg['square_image'] = False\n",
    "cfg"
   ]
  },
  {
   "cell_type": "code",
   "execution_count": 4,
   "id": "b1b2b33c-d863-43da-9290-a35b4219b0f7",
   "metadata": {},
   "outputs": [
    {
     "data": {
      "text/plain": [
       "<ConfigManager (1 configurations)>"
      ]
     },
     "execution_count": 4,
     "metadata": {},
     "output_type": "execute_result"
    }
   ],
   "source": [
    "CFGs = spi.ConfigManager([cfg], )\n",
    "CFGs"
   ]
  },
  {
   "cell_type": "code",
   "execution_count": 5,
   "id": "de4983b8-6ee8-4cb1-9464-4304a2eae2f5",
   "metadata": {},
   "outputs": [
    {
     "name": "stdout",
     "output_type": "stream",
     "text": [
      "Writing 1 dataset into 1 HDF5 file(s). This may take a while...\n"
     ]
    },
    {
     "name": "stderr",
     "output_type": "stream",
     "text": [
      "100%|█████████████████████████████████████████████████████████████████████████████████████████████████████████████████████████████████████████████████████████████████████████| 1/1 [00:00<00:00, 339.18cfg dict/s]"
     ]
    },
    {
     "name": "stdout",
     "output_type": "stream",
     "text": [
      "Processing standard names...\n",
      "... done.\n"
     ]
    },
    {
     "name": "stderr",
     "output_type": "stream",
     "text": [
      "\n"
     ]
    }
   ],
   "source": [
    "hdf_filename = CFGs.to_hdf(dataset_dir, nproc=1, overwrite=True)"
   ]
  },
  {
   "cell_type": "code",
   "execution_count": 6,
   "id": "c916242f-af2e-4cce-b4a3-16cee1ea5a57",
   "metadata": {},
   "outputs": [],
   "source": [
    "import h5rdmtoolbox as h5tbx\n",
    "h5tbx.__version__\n",
    "\n",
    "import matplotlib\n",
    "import matplotlib.pyplot as plt"
   ]
  },
  {
   "cell_type": "code",
   "execution_count": 7,
   "id": "0b639df3-fdf8-43d8-ab2c-cdfa514a37f5",
   "metadata": {},
   "outputs": [
    {
     "ename": "AttributeError",
     "evalue": "module 'h5rdmtoolbox' has no attribute 'H5File'",
     "output_type": "error",
     "traceback": [
      "\u001b[0;31m---------------------------------------------------------------------------\u001b[0m",
      "\u001b[0;31mAttributeError\u001b[0m                            Traceback (most recent call last)",
      "Cell \u001b[0;32mIn[7], line 1\u001b[0m\n\u001b[0;32m----> 1\u001b[0m \u001b[38;5;28;01mwith\u001b[39;00m \u001b[43mh5tbx\u001b[49m\u001b[38;5;241;43m.\u001b[39;49m\u001b[43mH5File\u001b[49m(hdf_filename[\u001b[38;5;241m0\u001b[39m]) \u001b[38;5;28;01mas\u001b[39;00m h5:\n\u001b[1;32m      2\u001b[0m     pprint(h5\u001b[38;5;241m.\u001b[39mdistinct(\u001b[38;5;124m'\u001b[39m\u001b[38;5;124mstandard_name\u001b[39m\u001b[38;5;124m'\u001b[39m))\n\u001b[1;32m      3\u001b[0m     \u001b[38;5;66;03m# h5.find_one({'standard_name': 'synthetic_particle_image'})[:].plot(cmap='gray',norm=matplotlib.colors.LogNorm(), vmin=1, vmax=2**8)\u001b[39;00m\n",
      "\u001b[0;31mAttributeError\u001b[0m: module 'h5rdmtoolbox' has no attribute 'H5File'"
     ]
    }
   ],
   "source": [
    "with h5tbx.H5File(hdf_filename[0]) as h5:\n",
    "    pprint(h5.distinct('standard_name'))\n",
    "    # h5.find_one({'standard_name': 'synthetic_particle_image'})[:].plot(cmap='gray',norm=matplotlib.colors.LogNorm(), vmin=1, vmax=2**8)\n",
    "    plt.figure()\n",
    "    h5.find_one({'standard_name': 'synthetic_particle_image'})[:].plot(cmap='gray', vmax=2**8)\n",
    "    plt.text(1.8,10,'$d_p=1$', color='white', size=14)\n",
    "    plt.text(9.5,10,'2', color='white', size=14)\n",
    "    plt.text(14.5,10,'3', color='white', size=14)\n",
    "    plt.text(19.5,10,'4 px', color='white', size=14)\n",
    "    plt.axis('off')\n",
    "    plt.title('')"
   ]
  },
  {
   "cell_type": "code",
   "execution_count": null,
   "id": "dcd05061-6595-42d1-9862-48484b8bde07",
   "metadata": {},
   "outputs": [],
   "source": [
    "with h5tbx.H5File(hdf_filename[0]) as h5:\n",
    "    h5.find_one({'standard_name': 'synthetic_particle_image'})[0,5,:].plot(label='at pixel')\n",
    "    h5.find_one({'standard_name': 'synthetic_particle_image'})[0,15,:].plot(label='at half pixel')\n",
    "    plt.legend()"
   ]
  }
 ],
 "metadata": {
  "kernelspec": {
   "display_name": "Python 3 (ipykernel)",
   "language": "python",
   "name": "python3"
  },
  "language_info": {
   "codemirror_mode": {
    "name": "ipython",
    "version": 3
   },
   "file_extension": ".py",
   "mimetype": "text/x-python",
   "name": "python",
   "nbconvert_exporter": "python",
   "pygments_lexer": "ipython3",
   "version": "3.8.16"
  }
 },
 "nbformat": 4,
 "nbformat_minor": 5
}
