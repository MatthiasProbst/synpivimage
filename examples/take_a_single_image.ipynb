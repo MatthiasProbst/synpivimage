{
 "cells": [
  {
   "cell_type": "markdown",
   "metadata": {},
   "source": [
    "# Take a single image"
   ]
  },
  {
   "cell_type": "code",
   "execution_count": 1,
   "metadata": {},
   "outputs": [
    {
     "data": {
      "text/plain": [
       "'1.0.0'"
      ]
     },
     "execution_count": 1,
     "metadata": {},
     "output_type": "execute_result"
    }
   ],
   "source": [
    "import numpy as np\n",
    "\n",
    "import synpivimage as spi \n",
    "spi.__version__"
   ]
  },
  {
   "cell_type": "markdown",
   "metadata": {},
   "source": [
    "## Configure laser, camera and particles\n",
    "\n",
    "For the three main components of a PIV image classes exist. They are thought of the configuration of a synthetic PIV image"
   ]
  },
  {
   "cell_type": "code",
   "execution_count": 2,
   "metadata": {},
   "outputs": [],
   "source": [
    "from synpivimage import take_image, Camera, Laser, Particles"
   ]
  },
  {
   "cell_type": "code",
   "execution_count": 3,
   "metadata": {},
   "outputs": [],
   "source": [
    "cam = Camera(\n",
    "    nx=16,\n",
    "    ny=16,\n",
    "    bit_depth=16,\n",
    "    qe=1,\n",
    "    sensitivity=1,\n",
    "    baseline_noise=50,\n",
    "    dark_noise=10,\n",
    "    shot_noise=False,\n",
    "    fill_ratio_x=1.0,\n",
    "    fill_ratio_y=1.0,\n",
    "    particle_image_diameter=2\n",
    ")\n",
    "\n",
    "laser = Laser(\n",
    "    width=0.25,\n",
    "    shape_factor=2\n",
    ")"
   ]
  },
  {
   "cell_type": "markdown",
   "metadata": {},
   "source": [
    "Note, that we can save the camera and laser settings to a file ... and then load it again:"
   ]
  },
  {
   "cell_type": "code",
   "execution_count": 4,
   "metadata": {},
   "outputs": [
    {
     "data": {
      "text/plain": [
       "Camera(nx=16, ny=16, bit_depth=16, qe=1.0, sensitivity=1.0, baseline_noise=50.0, dark_noise=10.0, shot_noise=0.0, fill_ratio_x=1.0, fill_ratio_y=1.0, particle_image_diameter=2.0)"
      ]
     },
     "execution_count": 4,
     "metadata": {},
     "output_type": "execute_result"
    }
   ],
   "source": [
    "cam.save('my_cam.json')\n",
    "laser.save('my_laser.json')\n",
    "\n",
    "cam = Camera.load('my_cam.json')\n",
    "laser = Laser.load('my_laser.json')\n",
    "\n",
    "cam"
   ]
  },
  {
   "cell_type": "markdown",
   "metadata": {},
   "source": [
    "The **particles** require the locations (or a single location only) and the size (arbitrary unit). Below, a single particle and randomly distributed ones are instantiated:"
   ]
  },
  {
   "cell_type": "code",
   "execution_count": 5,
   "metadata": {},
   "outputs": [],
   "source": [
    "one_paricle = Particles(\n",
    "    x=8,\n",
    "    y=8,\n",
    "    z=0,\n",
    "    size=2\n",
    ")\n",
    "\n",
    "\n",
    "# note, that we purposely create particles outside the FOV and zplane. We'll see why later...\n",
    "n = 40\n",
    "many_paricles = Particles(\n",
    "    x=np.random.uniform(-5, cam.nx-1, n),\n",
    "    y=np.random.uniform(-10, cam.ny-1, n),\n",
    "    z=np.random.uniform(-3*laser.width / 2, 3*laser.width/2, n),\n",
    "    size=2\n",
    ")"
   ]
  },
  {
   "cell_type": "markdown",
   "metadata": {},
   "source": [
    "## Take the image\n",
    "\n",
    "Just call `take_image` and pass the camera, laser and particle objects, Also define the particle count of an image particle located at z=0.\n",
    "\n",
    "We receive the image and a particle object. Note, that the particle object has a `flag` property. We will use it later."
   ]
  },
  {
   "cell_type": "code",
   "execution_count": 6,
   "metadata": {},
   "outputs": [],
   "source": [
    "imgOne, partOne = take_image(laser, cam, one_paricle, particle_peak_count=1000)"
   ]
  },
  {
   "cell_type": "code",
   "execution_count": 7,
   "metadata": {},
   "outputs": [],
   "source": [
    "from synpivimage.plotting import imshow"
   ]
  },
  {
   "cell_type": "code",
   "execution_count": 8,
   "metadata": {},
   "outputs": [
    {
     "data": {
      "text/plain": [
       "(<Axes: >, <Axes: >, <matplotlib.colorbar.Colorbar at 0x2b79a32b5e0>)"
      ]
     },
     "execution_count": 8,
     "metadata": {},
     "output_type": "execute_result"
    },
    {
     "data": {
      "image/png": "[encoded data removed]",
      "text/plain": [
       "<Figure size 640x480 with 2 Axes>"
      ]
     },
     "metadata": {},
     "output_type": "display_data"
    }
   ],
   "source": [
    "imshow(imgOne)"
   ]
  },
  {
   "cell_type": "markdown",
   "metadata": {},
   "source": [
    "**Print particle info**: The short information will tell us how many of the particles were illuminated. For the single particle, as expected, it got illuminated:"
   ]
  },
  {
   "cell_type": "code",
   "execution_count": 9,
   "metadata": {},
   "outputs": [
    {
     "name": "stdout",
     "output_type": "stream",
     "text": [
      "=== Particle Information === \n",
      " > Number of simulated particles: 1\n",
      " > Number of active (illuminated and in FOV) particles: 1\n",
      " > Number of particles outside of FOV: 0\n",
      " > Out of plane particles: 0\n"
     ]
    }
   ],
   "source": [
    "partOne.info()"
   ]
  },
  {
   "cell_type": "markdown",
   "metadata": {},
   "source": [
    "However, of the many particles, we expect some to be out of FOV or the laser:"
   ]
  },
  {
   "cell_type": "code",
   "execution_count": 10,
   "metadata": {},
   "outputs": [],
   "source": [
    "imgMany, partMany = take_image(laser, cam, many_paricles, particle_peak_count=1000)"
   ]
  },
  {
   "cell_type": "code",
   "execution_count": 11,
   "metadata": {},
   "outputs": [
    {
     "name": "stdout",
     "output_type": "stream",
     "text": [
      "=== Particle Information === \n",
      " > Number of simulated particles: 40\n",
      " > Number of active (illuminated and in FOV) particles: 5\n",
      " > Number of particles outside of FOV: 31\n",
      " > Out of plane particles: 4\n"
     ]
    }
   ],
   "source": [
    "partMany.info()"
   ]
  },
  {
   "cell_type": "markdown",
   "metadata": {},
   "source": [
    "Let's mark the particles that are active in green, the other in red, those that are weakly illuminated are marked black:"
   ]
  },
  {
   "cell_type": "code",
   "execution_count": 21,
   "metadata": {},
   "outputs": [
    {
     "data": {
      "image/png": "[encoded data removed]",
      "text/plain": [
       "<Figure size 640x480 with 4 Axes>"
      ]
     },
     "metadata": {},
     "output_type": "display_data"
    }
   ],
   "source": [
    "import matplotlib.pyplot as plt\n",
    "\n",
    "fig, axs = plt.subplots(1, 3, tight_layout=True)\n",
    "imshow(imgMany, ax=axs[0])\n",
    "\n",
    "axs[1].scatter(partMany.z[partMany.active], partMany.intensity[partMany.active], color='g')\n",
    "axs[1].scatter(partMany.z[partMany.disabled], partMany.intensity[partMany.disabled], color='r')\n",
    "axs[1].scatter(partMany.z[partMany.out_of_plane], partMany.intensity[partMany.out_of_plane], color='k')\n",
    "axs[1].vlines(-laser.width/2, 0, partMany.intensity.max(), color='k', linestyle='--')\n",
    "axs[1].vlines(laser.width/2, 0, partMany.intensity.max(), color='k', linestyle='--')\n",
    "axs[1].set_xlabel('z location')\n",
    "axs[1].set_ylabel('particle intensity')\n",
    "\n",
    "axs[2].scatter(partMany.x[partMany.active], partMany.y[partMany.active], color='g')\n",
    "axs[2].scatter(partMany.x[partMany.disabled], partMany.y[partMany.disabled], color='r')\n",
    "axs[2].scatter(partMany.x[partMany.out_of_plane], partMany.y[partMany.out_of_plane], color='k')\n",
    "axs[2].hlines(0, 0, cam.nx-1, color='k', linestyle='--')\n",
    "axs[2].hlines(cam.ny-1, 0, cam.nx, color='k', linestyle='--')\n",
    "axs[2].vlines(0, 0, cam.ny-1, color='k', linestyle='--')\n",
    "axs[2].vlines(cam.nx, 0, cam.ny-1, color='k', linestyle='--')\n",
    "axs[2].set_xlabel('x location')\n",
    "axs[2].set_ylabel('y location')\n",
    "plt.show()"
   ]
  },
  {
   "cell_type": "markdown",
   "metadata": {},
   "source": [
    "**Compute particle numbers**\n",
    "\n",
    "We might be interested in the particles in the laser sheet (source density number) and per pixel (ppp)"
   ]
  },
  {
   "cell_type": "code",
   "execution_count": 13,
   "metadata": {},
   "outputs": [
    {
     "data": {
      "text/plain": [
       "5"
      ]
     },
     "execution_count": 13,
     "metadata": {},
     "output_type": "execute_result"
    }
   ],
   "source": [
    "partMany.source_density_number"
   ]
  },
  {
   "cell_type": "code",
   "execution_count": 14,
   "metadata": {},
   "outputs": [
    {
     "data": {
      "text/plain": [
       "0.01953125"
      ]
     },
     "execution_count": 14,
     "metadata": {},
     "output_type": "execute_result"
    }
   ],
   "source": [
    "ppp = partMany.source_density_number/cam.size\n",
    "ppp"
   ]
  },
  {
   "cell_type": "markdown",
   "metadata": {},
   "source": [
    "## Save the data\n",
    "\n",
    "We can save the data into an HDF5 file or as a TIF file. When writing to TIF, we can add metadata. Camera, laser and particles are expected parameters, but also additional kwargs can be passed, like \"particle_peak_count\":"
   ]
  },
  {
   "cell_type": "markdown",
   "metadata": {},
   "source": [
    "### To image file"
   ]
  },
  {
   "cell_type": "code",
   "execution_count": 15,
   "metadata": {},
   "outputs": [],
   "source": [
    "from synpivimage.io import imwrite16"
   ]
  },
  {
   "cell_type": "code",
   "execution_count": 16,
   "metadata": {},
   "outputs": [
    {
     "data": {
      "text/plain": [
       "WindowsPath('imgOne.tif')"
      ]
     },
     "execution_count": 16,
     "metadata": {},
     "output_type": "execute_result"
    }
   ],
   "source": [
    "imwrite16('imgOne.tif',\n",
    "          img=imgOne[:],\n",
    "          camera=cam,\n",
    "          laser=laser,\n",
    "          particles=partMany,\n",
    "          particle_peak_count=1000,\n",
    "          overwrite=True)"
   ]
  },
  {
   "cell_type": "markdown",
   "metadata": {},
   "source": [
    "### To HDF"
   ]
  },
  {
   "cell_type": "code",
   "execution_count": 17,
   "metadata": {},
   "outputs": [],
   "source": [
    "from synpivimage.io import hdfwrite\n",
    "import h5py"
   ]
  },
  {
   "cell_type": "code",
   "execution_count": 18,
   "metadata": {},
   "outputs": [],
   "source": [
    "with h5py.File('imgOne.hdf', 'w') as h5:\n",
    "    hdfwrite(h5, imgOne, laser=laser, camera=cam, particles=partOne)"
   ]
  },
  {
   "cell_type": "code",
   "execution_count": 19,
   "metadata": {},
   "outputs": [],
   "source": [
    "import h5rdmtoolbox as h5tbx"
   ]
  },
  {
   "cell_type": "code",
   "execution_count": 20,
   "metadata": {},
   "outputs": [
    {
     "data": {
      "text/html": [
       "<head><style>/*\r\n",
       "CSS inspired by xarray: https://github.com/pydata/xarray\r\n",
       "*/\r\n",
       ".h5tb-header > div,\r\n",
       ".h5tb-header > ul {\r\n",
       "    display: inline;\r\n",
       "    margin-top: 0;\r\n",
       "    margin-bottom: 0;\r\n",
       "}\r\n",
       "\r\n",
       ".h5tb-dataarray-cls,\r\n",
       ".h5tb-dataarray-name {\r\n",
       "    margin-left: 2px;\r\n",
       "    margin-right: 10px;\r\n",
       "}\r\n",
       "\r\n",
       ".h5tb-dataarray-name {\r\n",
       "    color: #000;\r\n",
       "}\r\n",
       "\r\n",
       ".h5grp-sections {\r\n",
       "    list-style: none;\r\n",
       "    padding: 3px;\r\n",
       "    margin: 0;\r\n",
       "}\r\n",
       "\r\n",
       ".h5grp-sections input {\r\n",
       "    display: none;\r\n",
       "}\r\n",
       "\r\n",
       ".h5grp-sections label {\r\n",
       "    display: inline;\r\n",
       "}\r\n",
       "\r\n",
       ".h5grp-sections > li > input + label > span {\r\n",
       "    display: inline;\r\n",
       "    margin-left: 4px;\r\n",
       "}\r\n",
       "\r\n",
       ".h5grp-sections > li > input:checked + label > span {\r\n",
       "    display: none;\r\n",
       "}\r\n",
       "\r\n",
       ".h5grp-sections input:enabled + label {\r\n",
       "    cursor: pointer;\r\n",
       "}\r\n",
       "\r\n",
       ".h5grp-sections input:not(.h5tb-values-in) ~ ul {\r\n",
       "    display: none;\r\n",
       "}\r\n",
       "\r\n",
       ".h5grp-sections input:not(.h5tb-values-in):checked ~ ul {\r\n",
       "    display: block;\r\n",
       "}\r\n",
       "\r\n",
       ".h5grp-sections > li > input + label {\r\n",
       "    width: 140px;\r\n",
       "    color: #555;\r\n",
       "    font-weight: 500;\r\n",
       "    padding: 4px 0 2px 0;\r\n",
       "}\r\n",
       "\r\n",
       "\r\n",
       ".h5grp-sections > li > input + label:before {\r\n",
       "    display: inline-block;\r\n",
       "    content: '+';\r\n",
       "    font-size: 11px;\r\n",
       "    width: 15px;\r\n",
       "    text-align: center;\r\n",
       "}\r\n",
       "\r\n",
       ".h5grp-sections > li > input:disabled + label:before {\r\n",
       "    color: #777;\r\n",
       "}\r\n",
       "\r\n",
       ".h5grp-sections > li > input:checked + label:before {\r\n",
       "    content: '-';\r\n",
       "}\r\n",
       "\r\n",
       ".h5tb-dim-list {\r\n",
       "    display: inline-block !important;\r\n",
       "    list-style: none;\r\n",
       "    padding: 0;\r\n",
       "}\r\n",
       "\r\n",
       ".h5tb-dim-list li {\r\n",
       "    display: inline-block;\r\n",
       "    padding: 0;\r\n",
       "    margin: 0;\r\n",
       "}\r\n",
       "\r\n",
       ".h5tb-dim-list:before {\r\n",
       "    content: '(';\r\n",
       "}\r\n",
       "\r\n",
       ".h5tb-dim-list:after {\r\n",
       "    content: ')';\r\n",
       "}\r\n",
       "\r\n",
       ".h5tb-dim-list li:not(:last-child):after {\r\n",
       "    content: ',';\r\n",
       "}\r\n",
       "\r\n",
       ".h5tb-has-index {\r\n",
       "    text-decoration: underline;\r\n",
       "}\r\n",
       "\r\n",
       ".h5tb-var-list {\r\n",
       "    list-style: none;\r\n",
       "    padding: 0;\r\n",
       "    margin: 0;\r\n",
       "}\r\n",
       "\r\n",
       ".h5tb-var-list > li {\r\n",
       "    background-color: #fcfcfc;\r\n",
       "    overflow: hidden;\r\n",
       "}\r\n",
       "\r\n",
       ".h5tb-var-list > li:nth-child(odd) {\r\n",
       "    background-color: #efefef;\r\n",
       "}\r\n",
       "\r\n",
       ".h5tb-var-list li:hover {\r\n",
       "    background-color: rgba(3, 169, 244, .2);\r\n",
       "}\r\n",
       "\r\n",
       ".h5tb-var-list li > span {\r\n",
       "    display: inline-block;\r\n",
       "}\r\n",
       "\r\n",
       "input.h5tb-varname-in + label {\r\n",
       "    width: 140px;\r\n",
       "    padding-left: 0;\r\n",
       "    font-weight: bold;\r\n",
       "}\r\n",
       "\r\n",
       ".h5tb-dataset {\r\n",
       "    width: 100px;\r\n",
       "}\r\n",
       "\r\n",
       ".h5tb-attributevalue {\r\n",
       "    width: 100px;\r\n",
       "    text-align: left;\r\n",
       "    color: #888;\r\n",
       "    white-space: nowrap;\r\n",
       "    font-size: 12px;\r\n",
       "}\r\n",
       "\r\n",
       "input.h5tb-varname-in + label:before {\r\n",
       "    content: ' ';\r\n",
       "    display: inline-block;\r\n",
       "    font-size: 11px;\r\n",
       "    width: 15px;\r\n",
       "    padding-left: 2px;\r\n",
       "    padding-right: 2px;\r\n",
       "    text-align: center;\r\n",
       "    color: #aaa;\r\n",
       "    text-decoration: none !important;\r\n",
       "}\r\n",
       "\r\n",
       "input.h5tb-varname-in:enabled + label:hover:before {\r\n",
       "    color: #000;\r\n",
       "}\r\n",
       "\r\n",
       "input.h5tb-varname-in:checked + label:before {\r\n",
       "    color: #ccc;\r\n",
       "}\r\n",
       "\r\n",
       ".h5tb-dims {\r\n",
       "    width: 280px;\r\n",
       "    white-space: nowrap;\r\n",
       "}\r\n",
       "\r\n",
       ".h5tb-attr-list {\r\n",
       "    list-style: none;\r\n",
       "    background-color: rgba(0,0,0,.0);\r\n",
       "    padding-bottom: 6px;\r\n",
       "    color: #6a6c73;\r\n",
       "}\r\n",
       "\r\n",
       ".h5tb-attr-list li,\r\n",
       ".h5tb-attr-list li:hover {\r\n",
       "    background-color: rgba(0,0,0,.0);\r\n",
       "}</style></head>\n",
       "<div class='h5tb-warp'>\n",
       "\n",
       "              <ul style=\"list-style-type: none;\" class=\"h5grp-sections\">\n",
       "                    <li>\n",
       "                        <input id=\"group-ds--79352342618300\" type=\"checkbox\" checked>\n",
       "                        <label style=\"font-weight: bold\" for=\"group-ds--79352342618300\">\n",
       "                        /<span>(2)</span></label>\n",
       "                  \n",
       "\n",
       "                    <ul class=\"h5tb-attr-list\"><li style=\"list-style-type: none; font-style: italic\">software_info : {\"@context\": \"https://doi.org/10.5063/schema/codemeta-2.0\", \"@type\": \"SoftwareSourceCode\", \"licen...</li>\n",
       "                    </ul>\n",
       "\n",
       "                <ul id=\"ds-1-/img-79352345107300\" class=\"h5tb-var-list\">\n",
       "                    <input id=\"ds-2-/img-79352345109800\" class=\"h5tb-varname-in\" type=\"checkbox\" >\n",
       "                    <label class='h5tb-varname' for=\"ds-2-/img-79352345109800\">img</label>\n",
       "                    <span class=\"h5tb-dims\">(1, 16, 16) [float32]</span>\n",
       "                <ul class=\"h5tb-attr-list\">\n",
       "                </ul>\n",
       "                </ul>\n",
       "\n",
       "              <ul style=\"list-style-type: none;\" class=\"h5grp-sections\">\n",
       "                    <li>\n",
       "                        <input id=\"group-ds-virtual_piv_setup-79352345205300\" type=\"checkbox\" >\n",
       "                        <label style=\"font-weight: bold\" for=\"group-ds-virtual_piv_setup-79352345205300\">\n",
       "                        virtual_piv_setup<span>(3)</span></label>\n",
       "                  \n",
       "\n",
       "                    <ul class=\"h5tb-attr-list\">\n",
       "                    </ul>\n",
       "\n",
       "              <ul style=\"list-style-type: none;\" class=\"h5grp-sections\">\n",
       "                    <li>\n",
       "                        <input id=\"group-ds-Camera-79352345636600\" type=\"checkbox\" >\n",
       "                        <label style=\"font-weight: bold\" for=\"group-ds-Camera-79352345636600\">\n",
       "                        Camera<span>(11)</span></label>\n",
       "                  \n",
       "\n",
       "                    <ul class=\"h5tb-attr-list\">\n",
       "                    </ul>\n",
       "\n",
       "                <ul id=\"ds-1-/virtual_piv_setup/Camera/baseline_noise-79352348188900\" class=\"h5tb-var-list\">\n",
       "                <input id=\"ds-2-/virtual_piv_setup/Camera/baseline_noise-79352348192400\" class=\"h5tb-varname-in\" type=\"checkbox\" >\n",
       "                <label class='h5tb-varname' for=\"ds-2-/virtual_piv_setup/Camera/baseline_noise-79352348192400\">baseline_noise</label>\n",
       "                <span class=\"h5tb-dims\">50.0 [] (float64)</span>\n",
       "                <ul class=\"h5tb-attr-list\">\n",
       "                </ul>\n",
       "                </ul>\n",
       "\n",
       "                <ul id=\"ds-1-/virtual_piv_setup/Camera/bit_depth-79352348452500\" class=\"h5tb-var-list\">\n",
       "                <input id=\"ds-2-/virtual_piv_setup/Camera/bit_depth-79352348455100\" class=\"h5tb-varname-in\" type=\"checkbox\" >\n",
       "                <label class='h5tb-varname' for=\"ds-2-/virtual_piv_setup/Camera/bit_depth-79352348455100\">bit_depth</label>\n",
       "                <span class=\"h5tb-dims\">16 [] (int32)</span>\n",
       "                <ul class=\"h5tb-attr-list\">\n",
       "                </ul>\n",
       "                </ul>\n",
       "\n",
       "                <ul id=\"ds-1-/virtual_piv_setup/Camera/dark_noise-79352348631600\" class=\"h5tb-var-list\">\n",
       "                <input id=\"ds-2-/virtual_piv_setup/Camera/dark_noise-79352348634300\" class=\"h5tb-varname-in\" type=\"checkbox\" >\n",
       "                <label class='h5tb-varname' for=\"ds-2-/virtual_piv_setup/Camera/dark_noise-79352348634300\">dark_noise</label>\n",
       "                <span class=\"h5tb-dims\">10.0 [] (float64)</span>\n",
       "                <ul class=\"h5tb-attr-list\">\n",
       "                </ul>\n",
       "                </ul>\n",
       "\n",
       "                <ul id=\"ds-1-/virtual_piv_setup/Camera/fill_ratio_x-79352348798300\" class=\"h5tb-var-list\">\n",
       "                <input id=\"ds-2-/virtual_piv_setup/Camera/fill_ratio_x-79352348800400\" class=\"h5tb-varname-in\" type=\"checkbox\" >\n",
       "                <label class='h5tb-varname' for=\"ds-2-/virtual_piv_setup/Camera/fill_ratio_x-79352348800400\">fill_ratio_x</label>\n",
       "                <span class=\"h5tb-dims\">1.0 [] (float64)</span>\n",
       "                <ul class=\"h5tb-attr-list\">\n",
       "                </ul>\n",
       "                </ul>\n",
       "\n",
       "                <ul id=\"ds-1-/virtual_piv_setup/Camera/fill_ratio_y-79352348921200\" class=\"h5tb-var-list\">\n",
       "                <input id=\"ds-2-/virtual_piv_setup/Camera/fill_ratio_y-79352348923300\" class=\"h5tb-varname-in\" type=\"checkbox\" >\n",
       "                <label class='h5tb-varname' for=\"ds-2-/virtual_piv_setup/Camera/fill_ratio_y-79352348923300\">fill_ratio_y</label>\n",
       "                <span class=\"h5tb-dims\">1.0 [] (float64)</span>\n",
       "                <ul class=\"h5tb-attr-list\">\n",
       "                </ul>\n",
       "                </ul>\n",
       "\n",
       "                <ul id=\"ds-1-/virtual_piv_setup/Camera/nx-79352349037700\" class=\"h5tb-var-list\">\n",
       "                <input id=\"ds-2-/virtual_piv_setup/Camera/nx-79352349039800\" class=\"h5tb-varname-in\" type=\"checkbox\" >\n",
       "                <label class='h5tb-varname' for=\"ds-2-/virtual_piv_setup/Camera/nx-79352349039800\">nx</label>\n",
       "                <span class=\"h5tb-dims\">16 [] (int32)</span>\n",
       "                <ul class=\"h5tb-attr-list\">\n",
       "                </ul>\n",
       "                </ul>\n",
       "\n",
       "                <ul id=\"ds-1-/virtual_piv_setup/Camera/ny-79352349156400\" class=\"h5tb-var-list\">\n",
       "                <input id=\"ds-2-/virtual_piv_setup/Camera/ny-79352349158400\" class=\"h5tb-varname-in\" type=\"checkbox\" >\n",
       "                <label class='h5tb-varname' for=\"ds-2-/virtual_piv_setup/Camera/ny-79352349158400\">ny</label>\n",
       "                <span class=\"h5tb-dims\">16 [] (int32)</span>\n",
       "                <ul class=\"h5tb-attr-list\">\n",
       "                </ul>\n",
       "                </ul>\n",
       "\n",
       "                <ul id=\"ds-1-/virtual_piv_setup/Camera/particle_image_diameter-79352349357400\" class=\"h5tb-var-list\">\n",
       "                <input id=\"ds-2-/virtual_piv_setup/Camera/particle_image_diameter-79352349360200\" class=\"h5tb-varname-in\" type=\"checkbox\" >\n",
       "                <label class='h5tb-varname' for=\"ds-2-/virtual_piv_setup/Camera/particle_image_diameter-79352349360200\">particle_image_diameter</label>\n",
       "                <span class=\"h5tb-dims\">2.0 [] (float64)</span>\n",
       "                <ul class=\"h5tb-attr-list\">\n",
       "                </ul>\n",
       "                </ul>\n",
       "\n",
       "                <ul id=\"ds-1-/virtual_piv_setup/Camera/qe-79352349534800\" class=\"h5tb-var-list\">\n",
       "                <input id=\"ds-2-/virtual_piv_setup/Camera/qe-79352349537400\" class=\"h5tb-varname-in\" type=\"checkbox\" >\n",
       "                <label class='h5tb-varname' for=\"ds-2-/virtual_piv_setup/Camera/qe-79352349537400\">qe</label>\n",
       "                <span class=\"h5tb-dims\">1.0 [] (float64)</span>\n",
       "                <ul class=\"h5tb-attr-list\">\n",
       "                </ul>\n",
       "                </ul>\n",
       "\n",
       "                <ul id=\"ds-1-/virtual_piv_setup/Camera/sensitivity-79352349674100\" class=\"h5tb-var-list\">\n",
       "                <input id=\"ds-2-/virtual_piv_setup/Camera/sensitivity-79352349676700\" class=\"h5tb-varname-in\" type=\"checkbox\" >\n",
       "                <label class='h5tb-varname' for=\"ds-2-/virtual_piv_setup/Camera/sensitivity-79352349676700\">sensitivity</label>\n",
       "                <span class=\"h5tb-dims\">1.0 [] (float64)</span>\n",
       "                <ul class=\"h5tb-attr-list\">\n",
       "                </ul>\n",
       "                </ul>\n",
       "\n",
       "                <ul id=\"ds-1-/virtual_piv_setup/Camera/shot_noise-79352349822500\" class=\"h5tb-var-list\">\n",
       "                <input id=\"ds-2-/virtual_piv_setup/Camera/shot_noise-79352349825000\" class=\"h5tb-varname-in\" type=\"checkbox\" >\n",
       "                <label class='h5tb-varname' for=\"ds-2-/virtual_piv_setup/Camera/shot_noise-79352349825000\">shot_noise</label>\n",
       "                <span class=\"h5tb-dims\">0.0 [] (float64)</span>\n",
       "                <ul class=\"h5tb-attr-list\">\n",
       "                </ul>\n",
       "                </ul>\n",
       "</li>\n",
       "</ul>\n",
       "\n",
       "              <ul style=\"list-style-type: none;\" class=\"h5grp-sections\">\n",
       "                    <li>\n",
       "                        <input id=\"group-ds-Laser-79352350081600\" type=\"checkbox\" >\n",
       "                        <label style=\"font-weight: bold\" for=\"group-ds-Laser-79352350081600\">\n",
       "                        Laser<span>(2)</span></label>\n",
       "                  \n",
       "\n",
       "                    <ul class=\"h5tb-attr-list\">\n",
       "                    </ul>\n",
       "\n",
       "                <ul id=\"ds-1-/virtual_piv_setup/Laser/shape_factor-79352351153200\" class=\"h5tb-var-list\">\n",
       "                <input id=\"ds-2-/virtual_piv_setup/Laser/shape_factor-79352351157200\" class=\"h5tb-varname-in\" type=\"checkbox\" >\n",
       "                <label class='h5tb-varname' for=\"ds-2-/virtual_piv_setup/Laser/shape_factor-79352351157200\">shape_factor</label>\n",
       "                <span class=\"h5tb-dims\">2 [] (int32)</span>\n",
       "                <ul class=\"h5tb-attr-list\">\n",
       "                </ul>\n",
       "                </ul>\n",
       "\n",
       "                <ul id=\"ds-1-/virtual_piv_setup/Laser/width-79352351399400\" class=\"h5tb-var-list\">\n",
       "                <input id=\"ds-2-/virtual_piv_setup/Laser/width-79352351402000\" class=\"h5tb-varname-in\" type=\"checkbox\" >\n",
       "                <label class='h5tb-varname' for=\"ds-2-/virtual_piv_setup/Laser/width-79352351402000\">width</label>\n",
       "                <span class=\"h5tb-dims\">0.25 [] (float64)</span>\n",
       "                <ul class=\"h5tb-attr-list\">\n",
       "                </ul>\n",
       "                </ul>\n",
       "</li>\n",
       "</ul>\n",
       "\n",
       "              <ul style=\"list-style-type: none;\" class=\"h5grp-sections\">\n",
       "                    <li>\n",
       "                        <input id=\"group-ds-Particles-79352351586900\" type=\"checkbox\" >\n",
       "                        <label style=\"font-weight: bold\" for=\"group-ds-Particles-79352351586900\">\n",
       "                        Particles<span>(6)</span></label>\n",
       "                  \n",
       "\n",
       "                    <ul class=\"h5tb-attr-list\">\n",
       "                    </ul>\n",
       "\n",
       "                <ul id=\"ds-1-/virtual_piv_setup/Particles/flag-79352353739900\" class=\"h5tb-var-list\">\n",
       "                    <input id=\"ds-2-/virtual_piv_setup/Particles/flag-79352353743300\" class=\"h5tb-varname-in\" type=\"checkbox\" >\n",
       "                    <label class='h5tb-varname' for=\"ds-2-/virtual_piv_setup/Particles/flag-79352353743300\">flag</label>\n",
       "                    <span class=\"h5tb-dims\">(1) [int32]</span>\n",
       "                <ul class=\"h5tb-attr-list\">\n",
       "                </ul>\n",
       "                </ul>\n",
       "\n",
       "                <ul id=\"ds-1-/virtual_piv_setup/Particles/intensity-79352353885400\" class=\"h5tb-var-list\">\n",
       "                    <input id=\"ds-2-/virtual_piv_setup/Particles/intensity-79352353887900\" class=\"h5tb-varname-in\" type=\"checkbox\" >\n",
       "                    <label class='h5tb-varname' for=\"ds-2-/virtual_piv_setup/Particles/intensity-79352353887900\">intensity</label>\n",
       "                    <span class=\"h5tb-dims\">(1) [float64]</span>\n",
       "                <ul class=\"h5tb-attr-list\">\n",
       "                </ul>\n",
       "                </ul>\n",
       "\n",
       "                <ul id=\"ds-1-/virtual_piv_setup/Particles/size-79352353987300\" class=\"h5tb-var-list\">\n",
       "                    <input id=\"ds-2-/virtual_piv_setup/Particles/size-79352353989600\" class=\"h5tb-varname-in\" type=\"checkbox\" >\n",
       "                    <label class='h5tb-varname' for=\"ds-2-/virtual_piv_setup/Particles/size-79352353989600\">size</label>\n",
       "                    <span class=\"h5tb-dims\">(1) [int32]</span>\n",
       "                <ul class=\"h5tb-attr-list\">\n",
       "                </ul>\n",
       "                </ul>\n",
       "\n",
       "                <ul id=\"ds-1-/virtual_piv_setup/Particles/x-79352354082500\" class=\"h5tb-var-list\">\n",
       "                    <input id=\"ds-2-/virtual_piv_setup/Particles/x-79352354084900\" class=\"h5tb-varname-in\" type=\"checkbox\" >\n",
       "                    <label class='h5tb-varname' for=\"ds-2-/virtual_piv_setup/Particles/x-79352354084900\">x</label>\n",
       "                    <span class=\"h5tb-dims\">(1) [int32]</span>\n",
       "                <ul class=\"h5tb-attr-list\">\n",
       "                </ul>\n",
       "                </ul>\n",
       "\n",
       "                <ul id=\"ds-1-/virtual_piv_setup/Particles/y-79352354172600\" class=\"h5tb-var-list\">\n",
       "                    <input id=\"ds-2-/virtual_piv_setup/Particles/y-79352354174600\" class=\"h5tb-varname-in\" type=\"checkbox\" >\n",
       "                    <label class='h5tb-varname' for=\"ds-2-/virtual_piv_setup/Particles/y-79352354174600\">y</label>\n",
       "                    <span class=\"h5tb-dims\">(1) [int32]</span>\n",
       "                <ul class=\"h5tb-attr-list\">\n",
       "                </ul>\n",
       "                </ul>\n",
       "\n",
       "                <ul id=\"ds-1-/virtual_piv_setup/Particles/z-79352354253300\" class=\"h5tb-var-list\">\n",
       "                    <input id=\"ds-2-/virtual_piv_setup/Particles/z-79352354255400\" class=\"h5tb-varname-in\" type=\"checkbox\" >\n",
       "                    <label class='h5tb-varname' for=\"ds-2-/virtual_piv_setup/Particles/z-79352354255400\">z</label>\n",
       "                    <span class=\"h5tb-dims\">(1) [int32]</span>\n",
       "                <ul class=\"h5tb-attr-list\">\n",
       "                </ul>\n",
       "                </ul>\n",
       "</li>\n",
       "</ul>\n",
       "</li>\n",
       "</ul>\n",
       "</li>\n",
       "</ul>\n",
       "</div>"
      ],
      "text/plain": [
       "<IPython.core.display.HTML object>"
      ]
     },
     "metadata": {},
     "output_type": "display_data"
    }
   ],
   "source": [
    "h5tbx.dump('imgOne.hdf')"
   ]
  }
 ],
 "metadata": {
  "interpreter": {
   "hash": "02d57d4f82a712ded839b61a9a7962b0507366033663decc2eb4f0f687bfd0e6"
  },
  "kernelspec": {
   "display_name": "Python 3 (ipykernel)",
   "language": "python",
   "name": "python3"
  },
  "language_info": {
   "codemirror_mode": {
    "name": "ipython",
    "version": 3
   },
   "file_extension": ".py",
   "mimetype": "text/x-python",
   "name": "python",
   "nbconvert_exporter": "python",
   "pygments_lexer": "ipython3",
   "version": "3.10.13"
  }
 },
 "nbformat": 4,
 "nbformat_minor": 4
}
