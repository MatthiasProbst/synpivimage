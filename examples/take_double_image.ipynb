{
 "cells": [
  {
   "cell_type": "markdown",
   "id": "488dba63-879f-4b9c-91ba-2ba90ad19211",
   "metadata": {},
   "source": [
    "# Take a double image\n",
    "\n",
    "After we saw [how a single image](./take_a_single_image.ipynb) is taken, we can create the second one."
   ]
  },
  {
   "cell_type": "code",
   "execution_count": 1,
   "id": "549fb8c2-b9ed-460e-9653-0bc8ce8b92ae",
   "metadata": {},
   "outputs": [
    {
     "data": {
      "text/plain": [
       "'1.0.0a7'"
      ]
     },
     "execution_count": 1,
     "metadata": {},
     "output_type": "execute_result"
    }
   ],
   "source": [
    "import numpy as np\n",
    "\n",
    "from pivimage import PIVImage, PIVImagePair # for visualization\n",
    "\n",
    "import synpivimage as spi \n",
    "spi.__version__"
   ]
  },
  {
   "cell_type": "code",
   "execution_count": 2,
   "id": "8f1a4d8c-d045-4bd6-8d50-4e6964964d43",
   "metadata": {},
   "outputs": [],
   "source": [
    "from synpivimage import take_image, Camera, Laser, Particles"
   ]
  },
  {
   "cell_type": "code",
   "execution_count": 3,
   "id": "e9688f7b-c8d5-46b1-ae28-9ede50878d98",
   "metadata": {},
   "outputs": [],
   "source": [
    "cam = Camera(\n",
    "    nx=16,\n",
    "    ny=16,\n",
    "    bit_depth=16,\n",
    "    qe=1,\n",
    "    sensitivity=1,\n",
    "    baseline_noise=50,\n",
    "    dark_noise=10,\n",
    "    shot_noise=False,\n",
    "    fill_ratio_x=1.0,\n",
    "    fill_ratio_y=1.0,\n",
    "    particle_image_diameter=2  # px\n",
    ")\n",
    "\n",
    "laser = Laser(\n",
    "    width=0.25,\n",
    "    shape_factor=2\n",
    ")"
   ]
  },
  {
   "cell_type": "code",
   "execution_count": 4,
   "id": "dd83c13f-e562-44ab-96dd-db7e65430c77",
   "metadata": {},
   "outputs": [],
   "source": [
    "ppp = 0.1\n",
    "n = int(ppp * (5+cam.nx*cam.ny))  # +5 so that images can move into image B\n",
    "\n",
    "particles = Particles(\n",
    "    x=np.random.uniform(-1, cam.nx-1, n),\n",
    "    y=np.random.uniform(0, cam.ny-1, n),\n",
    "    z=np.zeros(n),\n",
    "    size=np.ones(n)*2,\n",
    ")"
   ]
  },
  {
   "cell_type": "code",
   "execution_count": 5,
   "id": "8858f4fa-9ce6-42c7-b4a7-48f169cd761d",
   "metadata": {},
   "outputs": [],
   "source": [
    "imgA, partA = take_image(laser, cam, particles, particle_peak_count=1000)\n",
    "\n",
    "imgB, partB = take_image(laser, cam,\n",
    "                         partA.displace(dx=4, dz=laser.width/2),\n",
    "                         particle_peak_count=1000)\n"
   ]
  },
  {
   "cell_type": "code",
   "execution_count": 6,
   "id": "bf03c8da-8125-42d1-a242-585c9782bb58",
   "metadata": {},
   "outputs": [],
   "source": [
    "dpart = partB-partA"
   ]
  },
  {
   "cell_type": "code",
   "execution_count": 7,
   "id": "c0812669-6953-461a-a2bf-a364a6737d43",
   "metadata": {},
   "outputs": [
    {
     "data": {
      "text/plain": [
       "(<Axes: >, <Axes: >, <Axes: >, <Axes: >)"
      ]
     },
     "execution_count": 7,
     "metadata": {},
     "output_type": "execute_result"
    },
    {
     "data": {
      "image/png": "[encoded data removed]",
      "text/plain": [
       "<Figure size 300x300 with 4 Axes>"
      ]
     },
     "metadata": {},
     "output_type": "display_data"
    }
   ],
   "source": [
    "imgpair = PIVImagePair(A=PIVImage.from_array(imgA), B=PIVImage.from_array(imgB))\n",
    "imgpair.plot()"
   ]
  },
  {
   "cell_type": "code",
   "execution_count": 8,
   "id": "8b044553-1e6c-4471-aef1-7e0c1d1851d8",
   "metadata": {},
   "outputs": [
    {
     "name": "stdout",
     "output_type": "stream",
     "text": [
      "=== Particle Information === \n",
      " > Number of simulated particles: 26\n",
      " > Number of active (illuminated and in FOV) particles: 23\n",
      " > Number of particles outside of FOV: 3\n",
      " > Out of plane particles: 0\n"
     ]
    }
   ],
   "source": [
    "partA.info()"
   ]
  },
  {
   "cell_type": "code",
   "execution_count": 9,
   "id": "dd41f7e1-2b79-409e-8c11-323f7f4221d5",
   "metadata": {},
   "outputs": [
    {
     "data": {
      "text/plain": [
       "(23, 0.08984375)"
      ]
     },
     "execution_count": 9,
     "metadata": {},
     "output_type": "execute_result"
    }
   ],
   "source": [
    "partA.source_density_number, partA.source_density_number / cam.size"
   ]
  },
  {
   "cell_type": "code",
   "execution_count": 10,
   "id": "98cad8a5-df40-4b5b-9fe8-7ec68f142707",
   "metadata": {},
   "outputs": [
    {
     "data": {
      "text/plain": [
       "(21, 0.08203125)"
      ]
     },
     "execution_count": 10,
     "metadata": {},
     "output_type": "execute_result"
    }
   ],
   "source": [
    "partB.source_density_number, partB.source_density_number / cam.size"
   ]
  },
  {
   "cell_type": "code",
   "execution_count": 11,
   "id": "cfcd161d-0e6f-4eb6-8fb8-f9d2cdce2006",
   "metadata": {},
   "outputs": [
    {
     "name": "stdout",
     "output_type": "stream",
     "text": [
      "=== Particle Information === \n",
      " > Number of simulated particles: 26\n",
      " > Number of active (illuminated and in FOV) particles: 21\n",
      " > Number of particles outside of FOV: 5\n",
      " > Out of plane particles: 0\n"
     ]
    }
   ],
   "source": [
    "partB.info()"
   ]
  },
  {
   "cell_type": "markdown",
   "id": "bec199ca-8855-4023-a8d6-e2de507b441a",
   "metadata": {},
   "source": [
    "This means, that we lost the following percentage of particles out of plane:"
   ]
  },
  {
   "cell_type": "code",
   "execution_count": 12,
   "id": "15ee384d-57ea-449c-805e-62e612fc130f",
   "metadata": {},
   "outputs": [
    {
     "data": {
      "text/plain": [
       "0.0"
      ]
     },
     "execution_count": 12,
     "metadata": {},
     "output_type": "execute_result"
    }
   ],
   "source": [
    "partB.n_out_of_plane_loss/partA.n_active*100"
   ]
  },
  {
   "cell_type": "markdown",
   "id": "2c014b81-0082-4bd2-b278-0a5a8405c611",
   "metadata": {},
   "source": [
    "## Save double images\n",
    "\n",
    "We can save both images individually as done with a single image:"
   ]
  },
  {
   "cell_type": "code",
   "execution_count": 13,
   "id": "fc24c5d9-32f3-4461-bdc3-78d94c3f5315",
   "metadata": {},
   "outputs": [],
   "source": [
    "from synpivimage.io import Imwriter"
   ]
  },
  {
   "cell_type": "code",
   "execution_count": 14,
   "id": "1c5dc826-6529-4af7-8718-7cd01c096b35",
   "metadata": {},
   "outputs": [],
   "source": [
    "with Imwriter(case_name='double_img', camera=cam, laser=laser, overwrite=True) as iw:\n",
    "    iw.writeA(0, imgA, partA)\n",
    "    iw.writeB(0, imgB, partB)"
   ]
  },
  {
   "cell_type": "code",
   "execution_count": null,
   "id": "2c5fdeed-3880-4bbb-9b1e-5dc9ff69a298",
   "metadata": {},
   "outputs": [],
   "source": []
  }
 ],
 "metadata": {
  "kernelspec": {
   "display_name": "Python 3 (ipykernel)",
   "language": "python",
   "name": "python3"
  },
  "language_info": {
   "codemirror_mode": {
    "name": "ipython",
    "version": 3
   },
   "file_extension": ".py",
   "mimetype": "text/x-python",
   "name": "python",
   "nbconvert_exporter": "python",
   "pygments_lexer": "ipython3",
   "version": "3.8.20"
  }
 },
 "nbformat": 4,
 "nbformat_minor": 5
}
