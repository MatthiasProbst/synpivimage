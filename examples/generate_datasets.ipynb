{
 "cells": [
  {
   "cell_type": "markdown",
   "metadata": {},
   "source": [
    "# Dataset Creation"
   ]
  },
  {
   "cell_type": "markdown",
   "metadata": {},
   "source": [
    "Package for creating synthetic PIV images:"
   ]
  },
  {
   "cell_type": "code",
   "execution_count": 2,
   "metadata": {},
   "outputs": [
    {
     "data": {
      "text/plain": [
       "'0.1.9'"
      ]
     },
     "execution_count": 2,
     "metadata": {},
     "output_type": "execute_result"
    }
   ],
   "source": [
    "import synpivimage as spi \n",
    "spi.__version__"
   ]
  },
  {
   "cell_type": "code",
   "execution_count": 3,
   "metadata": {},
   "outputs": [
    {
     "data": {
      "text/plain": [
       "'0.1.15'"
      ]
     },
     "execution_count": 3,
     "metadata": {},
     "output_type": "execute_result"
    }
   ],
   "source": [
    "import h5rdmtoolbox as h5tbx\n",
    "h5tbx.__version__"
   ]
  },
  {
   "cell_type": "markdown",
   "metadata": {},
   "source": [
    "For the notebook we retrieve the dataset directory from the dot-env file:"
   ]
  },
  {
   "cell_type": "code",
   "execution_count": 4,
   "metadata": {},
   "outputs": [
    {
     "data": {
      "text/plain": [
       "'example_data_dir'"
      ]
     },
     "execution_count": 4,
     "metadata": {},
     "output_type": "execute_result"
    }
   ],
   "source": [
    "from dotenv import load_dotenv\n",
    "import os\n",
    "import numpy as np\n",
    "\n",
    "load_dotenv('generation.env')\n",
    "dataset_dir = os.getenv('dataset_dir')\n",
    "dataset_dir"
   ]
  },
  {
   "cell_type": "markdown",
   "metadata": {
    "tags": []
   },
   "source": [
    "## 1. Define an inital configuration\n",
    "The initial configuration shall be the default one of the synpivimage package. From there, we adjust the parameters.<br>\n",
    "Note, that the image width/height is chosen to be odd. This is recommended when using the auto-correlation feature later on.<br>\n",
    "Also note, that the default configuration **disabled noise generation** since it always can be added afterwards. "
   ]
  },
  {
   "cell_type": "code",
   "execution_count": 5,
   "metadata": {},
   "outputs": [
    {
     "data": {
      "text/plain": [
       "{'ny': 32,\n",
       " 'nx': 32,\n",
       " 'square_image': True,\n",
       " 'bit_depth': 8,\n",
       " 'noise_baseline': 0.0,\n",
       " 'dark_noise': 0.0,\n",
       " 'sensitivity': 1,\n",
       " 'qe': 1,\n",
       " 'shot_noise': False,\n",
       " 'particle_number': 1,\n",
       " 'particle_size_mean': 2.5,\n",
       " 'particle_size_std': 1,\n",
       " 'laser_width': 3,\n",
       " 'laser_shape_factor': 2,\n",
       " 'sensor_gain': 0.6,\n",
       " 'particle_position_file': None,\n",
       " 'particle_size_illumination_dependency': True}"
      ]
     },
     "execution_count": 5,
     "metadata": {},
     "output_type": "execute_result"
    }
   ],
   "source": [
    "cfg = spi.DEFAULT_CFG\n",
    "\n",
    "cfg['bit_depth'] = 8\n",
    "cfg['nx'] = 32\n",
    "cfg['ny'] = 32\n",
    "cfg['sensor_gain'] = 0.6\n",
    "cfg['particle_size_std'] = 1\n",
    "image_size = cfg['nx']*cfg['ny']\n",
    "cfg"
   ]
  },
  {
   "cell_type": "markdown",
   "metadata": {},
   "source": [
    "## 2. Defining parameters to be varied\n",
    "\n",
    "Create tuples with the configuration name and the parameters. The parameter values can be a number only, a list or a numpy array (Obviously passing a number is equal to not specify the variation tuple at all).<br>\n",
    "Last we specify how many images per combinations will be generated with `n_per_combination`"
   ]
  },
  {
   "cell_type": "code",
   "execution_count": 13,
   "metadata": {},
   "outputs": [],
   "source": [
    "# particle_number_range = ('particle_number', np.arange(1, image_size*0.1, 10).astype(int))\n",
    "particle_number_range = ('particle_number', int(0.1*30*30))\n",
    "particle_mean_size_range = ('particle_size_mean', (2, 3))\n",
    "lasershape_range = ('laser_shape_factor', (1,10))\n",
    "\n",
    "n_per_combination = 101"
   ]
  },
  {
   "cell_type": "markdown",
   "metadata": {
    "tags": []
   },
   "source": [
    "## 3. Generate a list of all config combinations:\n",
    "Before we can write the data to disk, we generate a `ConfigManager`. This class is initalize by passing a list of all configuration dictionaries that define each image generation. Thus we need 101 configuration dictionaries. Using `build_ConfgManger()` we retrieve the `ConfigManger`-instance by passing the inital config dictionary and the variation tuples from above (so we don't need to deal with building the man config dictionaries ourselves):"
   ]
  },
  {
   "cell_type": "code",
   "execution_count": 14,
   "metadata": {
    "tags": []
   },
   "outputs": [
    {
     "data": {
      "text/plain": [
       "Configurations with 404 configurations"
      ]
     },
     "execution_count": 14,
     "metadata": {},
     "output_type": "execute_result"
    }
   ],
   "source": [
    "CFGs = spi.build_ConfigManager(cfg, [particle_number_range,\n",
    "                                     particle_mean_size_range,\n",
    "                                     lasershape_range],\n",
    "                              per_combination = n_per_combination,\n",
    "                              shuffle=True)\n",
    "CFGs"
   ]
  },
  {
   "cell_type": "markdown",
   "metadata": {},
   "source": [
    "## 4. Write all data to HDF5 files:\n",
    "With a large amount of parameters the image generation may produce arrays that will blow your RAM. Therefore define the maximal number of images to be created before written to the file. This parameter is called `n_split`. If using `None`, all data is written into a single file. If you pass any integer number, then that number of files will be created. Filenames will look like `<dataset_dir>/ds_000001.hdf` and so on."
   ]
  },
  {
   "cell_type": "code",
   "execution_count": 15,
   "metadata": {},
   "outputs": [
    {
     "name": "stdout",
     "output_type": "stream",
     "text": [
      "Writing 404 dataset into 1 HDF5 file(s). This may take a while...\n"
     ]
    },
    {
     "name": "stderr",
     "output_type": "stream",
     "text": [
      "  0%|                                                                                    | 0/404 [00:00<?, ?cfg dict/s]c:\\users\\da4323\\documents\\programming\\git\\dev\\synpivimage\\synpivimage\\core.py:170: UserWarning: Particles smaller then 0.1 are set to 0.1.\n",
      "  warnings.warn(f'Particles smaller then {PMIN_ALLOWED} are set to {PMIN_ALLOWED}.')\n",
      "100%|█████████████████████████████████████████████████████████████████████████| 404/404 [00:02<00:00, 171.51cfg dict/s]\n"
     ]
    },
    {
     "name": "stdout",
     "output_type": "stream",
     "text": [
      "... done.\n",
      "CPU times: total: 2.5 s\n",
      "Wall time: 2.46 s\n"
     ]
    }
   ],
   "source": [
    "%%time\n",
    "hdf_filename = CFGs.to_hdf(dataset_dir, nproc=1, n_split=1000, overwrite=True)"
   ]
  },
  {
   "cell_type": "code",
   "execution_count": 16,
   "metadata": {},
   "outputs": [
    {
     "data": {
      "text/html": [
       "<head><style>/*\r\n",
       "CSS inspired by xarray: https://github.com/pydata/xarray\r\n",
       "*/\r\n",
       ".h5tb-header > div,\r\n",
       ".h5tb-header > ul {\r\n",
       "    display: inline;\r\n",
       "    margin-top: 0;\r\n",
       "    margin-bottom: 0;\r\n",
       "}\r\n",
       "\r\n",
       ".h5tb-dataarray-cls,\r\n",
       ".h5tb-dataarray-name {\r\n",
       "    margin-left: 2px;\r\n",
       "    margin-right: 10px;\r\n",
       "}\r\n",
       "\r\n",
       ".h5tb-dataarray-name {\r\n",
       "    color: #000;\r\n",
       "}\r\n",
       "\r\n",
       ".h5grp-sections {\r\n",
       "    list-style: none;\r\n",
       "    padding: 3px;\r\n",
       "    margin: 0;\r\n",
       "}\r\n",
       "\r\n",
       ".h5grp-sections input {\r\n",
       "    display: none;\r\n",
       "}\r\n",
       "\r\n",
       ".h5grp-sections label {\r\n",
       "    display: inline;\r\n",
       "}\r\n",
       "\r\n",
       ".h5grp-sections > li > input + label > span {\r\n",
       "    display: inline;\r\n",
       "    margin-left: 4px;\r\n",
       "}\r\n",
       "\r\n",
       ".h5grp-sections > li > input:checked + label > span {\r\n",
       "    display: none;\r\n",
       "}\r\n",
       "\r\n",
       ".h5grp-sections input:enabled + label {\r\n",
       "    cursor: pointer;\r\n",
       "}\r\n",
       "\r\n",
       ".h5grp-sections input:not(.h5tb-values-in) ~ ul {\r\n",
       "    display: none;\r\n",
       "}\r\n",
       "\r\n",
       ".h5grp-sections input:not(.h5tb-values-in):checked ~ ul {\r\n",
       "    display: block;\r\n",
       "}\r\n",
       "\r\n",
       ".h5grp-sections > li > input + label {\r\n",
       "    width: 140px;\r\n",
       "    color: #555;\r\n",
       "    font-weight: 500;\r\n",
       "    padding: 4px 0 2px 0;\r\n",
       "}\r\n",
       "\r\n",
       "\r\n",
       ".h5grp-sections > li > input + label:before {\r\n",
       "    display: inline-block;\r\n",
       "    content: '+';\r\n",
       "    font-size: 11px;\r\n",
       "    width: 15px;\r\n",
       "    text-align: center;\r\n",
       "}\r\n",
       "\r\n",
       ".h5grp-sections > li > input:disabled + label:before {\r\n",
       "    color: #777;\r\n",
       "}\r\n",
       "\r\n",
       ".h5grp-sections > li > input:checked + label:before {\r\n",
       "    content: '-';\r\n",
       "}\r\n",
       "\r\n",
       ".h5tb-dim-list {\r\n",
       "    display: inline-block !important;\r\n",
       "    list-style: none;\r\n",
       "    padding: 0;\r\n",
       "}\r\n",
       "\r\n",
       ".h5tb-dim-list li {\r\n",
       "    display: inline-block;\r\n",
       "    padding: 0;\r\n",
       "    margin: 0;\r\n",
       "}\r\n",
       "\r\n",
       ".h5tb-dim-list:before {\r\n",
       "    content: '(';\r\n",
       "}\r\n",
       "\r\n",
       ".h5tb-dim-list:after {\r\n",
       "    content: ')';\r\n",
       "}\r\n",
       "\r\n",
       ".h5tb-dim-list li:not(:last-child):after {\r\n",
       "    content: ',';\r\n",
       "}\r\n",
       "\r\n",
       ".h5tb-has-index {\r\n",
       "    text-decoration: underline;\r\n",
       "}\r\n",
       "\r\n",
       ".h5tb-var-list {\r\n",
       "    list-style: none;\r\n",
       "    padding: 0;\r\n",
       "    margin: 0;\r\n",
       "}\r\n",
       "\r\n",
       ".h5tb-var-list > li {\r\n",
       "    background-color: #fcfcfc;\r\n",
       "    overflow: hidden;\r\n",
       "}\r\n",
       "\r\n",
       ".h5tb-var-list > li:nth-child(odd) {\r\n",
       "    background-color: #efefef;\r\n",
       "}\r\n",
       "\r\n",
       ".h5tb-var-list li:hover {\r\n",
       "    background-color: rgba(3, 169, 244, .2);\r\n",
       "}\r\n",
       "\r\n",
       ".h5tb-var-list li > span {\r\n",
       "    display: inline-block;\r\n",
       "}\r\n",
       "\r\n",
       "input.h5tb-varname-in + label {\r\n",
       "    width: 140px;\r\n",
       "    padding-left: 0;\r\n",
       "    font-weight: bold;\r\n",
       "}\r\n",
       "\r\n",
       ".h5tb-dataset {\r\n",
       "    width: 100px;\r\n",
       "}\r\n",
       "\r\n",
       ".h5tb-attributevalue {\r\n",
       "    width: 100px;\r\n",
       "    text-align: left;\r\n",
       "    color: #888;\r\n",
       "    white-space: nowrap;\r\n",
       "    font-size: 12px;\r\n",
       "}\r\n",
       "\r\n",
       "input.h5tb-varname-in + label:before {\r\n",
       "    content: ' ';\r\n",
       "    display: inline-block;\r\n",
       "    font-size: 11px;\r\n",
       "    width: 15px;\r\n",
       "    padding-left: 2px;\r\n",
       "    padding-right: 2px;\r\n",
       "    text-align: center;\r\n",
       "    color: #aaa;\r\n",
       "    text-decoration: none !important;\r\n",
       "}\r\n",
       "\r\n",
       "input.h5tb-varname-in:enabled + label:hover:before {\r\n",
       "    color: #000;\r\n",
       "}\r\n",
       "\r\n",
       "input.h5tb-varname-in:checked + label:before {\r\n",
       "    color: #ccc;\r\n",
       "}\r\n",
       "\r\n",
       ".h5tb-dims {\r\n",
       "    width: 280px;\r\n",
       "    white-space: nowrap;\r\n",
       "}\r\n",
       "\r\n",
       "\r\n",
       ".h5tb-unit {\r\n",
       "    width: 96px;\r\n",
       "    white-space: nowrap;\r\n",
       "    padding-right: 2px;\r\n",
       "    text-align: right;\r\n",
       "    color: #555;\r\n",
       "    font-style: italic;\r\n",
       "}\r\n",
       "\r\n",
       ".h5tb-attr-list {\r\n",
       "    list-style: none;\r\n",
       "    background-color: #fff;\r\n",
       "    padding-bottom: 6px;\r\n",
       "    color: #555;\r\n",
       "}\r\n",
       "\r\n",
       ".h5tb-attr-list li,\r\n",
       ".h5tb-attr-list li:hover {\r\n",
       "    background-color: #fff;\r\n",
       "}\r\n",
       "\r\n",
       ".h5tb-dim-highlight {\r\n",
       "    background-color: rgba(3, 169, 244, .2);\r\n",
       "    cursor: pointer;\r\n",
       "}</style></head>\n",
       "<p>ds_000000.hdf</p>\n",
       "<p>Check resuted in 1 issues.</p>\n",
       "\n",
       "<div class='h5tb-warp'>\n",
       "\n",
       "          <ul style=\"list-style-type: none;\" class=\"h5grp-sections\">\n",
       "                <li>\n",
       "                    <input id=\"group-ds-/-48599277100\" type=\"checkbox\" checked>\n",
       "                    <label style=\"font-weight: bold\" for=\"group-ds-/-48599277100\">\n",
       "                    /<span>(16)</span></label>\n",
       "              \n",
       "\n",
       "                <ul class=\"h5tb-attr-list\">\n",
       "                </ul>\n",
       "\n",
       "                    <ul id=\"ds-1-/bit_depth-48602017900\" class=\"h5tb-var-list\">\n",
       "                    <input id=\"ds-2-/bit_depth-48602020500\" class=\"h5tb-varname-in\" type=\"checkbox\">\n",
       "                    <label class='h5tb-varname' \n",
       "                        for=\"ds-2-/bit_depth-48602020500\">bit_depth</label>\n",
       "                    <span class=\"h5tb-dims\">(404,)</span>  [\n",
       "                    <span class=\"h5tb-unit\">-</span>]\n",
       "<ul class=\"h5tb-attr-list\"><li style=\"list-style-type: none; font-style:\n",
       "         italic\">standard_name : image_bit_depth</li>\n",
       "\n",
       "                </ul>\n",
       "\n",
       "             </ul>\n",
       "             \n",
       "\n",
       "                    <ul id=\"ds-1-/configured_particle_size_mean-48602422500\" class=\"h5tb-var-list\">\n",
       "                    <input id=\"ds-2-/configured_particle_size_mean-48602425000\" class=\"h5tb-varname-in\" type=\"checkbox\">\n",
       "                    <label class='h5tb-varname' \n",
       "                        for=\"ds-2-/configured_particle_size_mean-48602425000\">configured_particle_size_mean</label>\n",
       "                    <span class=\"h5tb-dims\">(404,)</span>  [\n",
       "                    <span class=\"h5tb-unit\">px</span>]\n",
       "<ul class=\"h5tb-attr-list\">\n",
       "\n",
       "                </ul>\n",
       "\n",
       "             </ul>\n",
       "             \n",
       "\n",
       "                    <ul id=\"ds-1-/configured_particle_size_std-48602753800\" class=\"h5tb-var-list\">\n",
       "                    <input id=\"ds-2-/configured_particle_size_std-48602756500\" class=\"h5tb-varname-in\" type=\"checkbox\">\n",
       "                    <label class='h5tb-varname' \n",
       "                        for=\"ds-2-/configured_particle_size_std-48602756500\">configured_particle_size_std</label>\n",
       "                    <span class=\"h5tb-dims\">(404,)</span>  [\n",
       "                    <span class=\"h5tb-unit\">px</span>]\n",
       "<ul class=\"h5tb-attr-list\">\n",
       "\n",
       "                </ul>\n",
       "\n",
       "             </ul>\n",
       "             \n",
       "\n",
       "                    <ul id=\"ds-1-/image_index-48603055700\" class=\"h5tb-var-list\">\n",
       "                    <input id=\"ds-2-/image_index-48603058100\" class=\"h5tb-varname-in\" type=\"checkbox\">\n",
       "                    <label class='h5tb-varname' \n",
       "                        for=\"ds-2-/image_index-48603058100\">image_index</label>\n",
       "                    <span class=\"h5tb-dims\">(404,)</span>  [\n",
       "                    <span class=\"h5tb-unit\">-</span>]\n",
       "<ul class=\"h5tb-attr-list\"><li style=\"list-style-type: none; font-style: italic\">long_name : image index</li>\n",
       "\n",
       "                </ul>\n",
       "\n",
       "             </ul>\n",
       "             \n",
       "\n",
       "                    <ul id=\"ds-1-/images-48603613400\" class=\"h5tb-var-list\">\n",
       "                    <input id=\"ds-2-/images-48603615600\" class=\"h5tb-varname-in\" type=\"checkbox\">\n",
       "                    <label class='h5tb-varname' \n",
       "                        for=\"ds-2-/images-48603615600\">images</label>\n",
       "                    <span class=\"h5tb-dims\">(image_index: 404, iy: 32, ix: 32)</span>  [\n",
       "                    <span class=\"h5tb-unit\">counts</span>]\n",
       "<ul class=\"h5tb-attr-list\"><li style=\"list-style-type: none; font-style: italic\">long_name : image intensity</li><li style=\"list-style-type: none; font-style:\n",
       "         italic\">standard_name : synthetic_particle_image</li>\n",
       "\n",
       "                </ul>\n",
       "\n",
       "             </ul>\n",
       "             \n",
       "\n",
       "                    <ul id=\"ds-1-/ix-48603898500\" class=\"h5tb-var-list\">\n",
       "                    <input id=\"ds-2-/ix-48603900900\" class=\"h5tb-varname-in\" type=\"checkbox\">\n",
       "                    <label class='h5tb-varname' \n",
       "                        for=\"ds-2-/ix-48603900900\">ix</label>\n",
       "                    <span class=\"h5tb-dims\">(32,)</span>  [\n",
       "                    <span class=\"h5tb-unit\">px</span>]\n",
       "<ul class=\"h5tb-attr-list\"><li style=\"list-style-type: none; font-style:\n",
       "         italic\">standard_name : x_pixel_coordinate</li>\n",
       "\n",
       "                </ul>\n",
       "\n",
       "             </ul>\n",
       "             \n",
       "\n",
       "                    <ul id=\"ds-1-/iy-48604197700\" class=\"h5tb-var-list\">\n",
       "                    <input id=\"ds-2-/iy-48604199900\" class=\"h5tb-varname-in\" type=\"checkbox\">\n",
       "                    <label class='h5tb-varname' \n",
       "                        for=\"ds-2-/iy-48604199900\">iy</label>\n",
       "                    <span class=\"h5tb-dims\">(32,)</span>  [\n",
       "                    <span class=\"h5tb-unit\">px</span>]\n",
       "<ul class=\"h5tb-attr-list\"><li style=\"list-style-type: none; font-style:\n",
       "         italic\">standard_name : y_pixel_coordinate</li>\n",
       "\n",
       "                </ul>\n",
       "\n",
       "             </ul>\n",
       "             \n",
       "\n",
       "                    <ul id=\"ds-1-/laser_shape_factor-48604514600\" class=\"h5tb-var-list\">\n",
       "                    <input id=\"ds-2-/laser_shape_factor-48604517000\" class=\"h5tb-varname-in\" type=\"checkbox\">\n",
       "                    <label class='h5tb-varname' \n",
       "                        for=\"ds-2-/laser_shape_factor-48604517000\">laser_shape_factor</label>\n",
       "                    <span class=\"h5tb-dims\">(404,)</span>  [\n",
       "                    <span class=\"h5tb-unit\">-</span>]\n",
       "<ul class=\"h5tb-attr-list\">\n",
       "\n",
       "                </ul>\n",
       "\n",
       "             </ul>\n",
       "             \n",
       "\n",
       "                    <ul id=\"ds-1-/laser_width-48604827200\" class=\"h5tb-var-list\">\n",
       "                    <input id=\"ds-2-/laser_width-48604829400\" class=\"h5tb-varname-in\" type=\"checkbox\">\n",
       "                    <label class='h5tb-varname' \n",
       "                        for=\"ds-2-/laser_width-48604829400\">laser_width</label>\n",
       "                    <span class=\"h5tb-dims\">(404,)</span>  [\n",
       "                    <span class=\"h5tb-unit\">m</span>]\n",
       "<ul class=\"h5tb-attr-list\"><li style=\"list-style-type: none; font-style:\n",
       "         italic\">standard_name : laser_sheet_thickness</li>\n",
       "\n",
       "                </ul>\n",
       "\n",
       "             </ul>\n",
       "             \n",
       "\n",
       "                    <ul id=\"ds-1-/nparticles-48605261500\" class=\"h5tb-var-list\">\n",
       "                    <input id=\"ds-2-/nparticles-48605264400\" class=\"h5tb-varname-in\" type=\"checkbox\">\n",
       "                    <label class='h5tb-varname' \n",
       "                        for=\"ds-2-/nparticles-48605264400\">nparticles</label>\n",
       "                    <span class=\"h5tb-dims\">(404,)</span>  [\n",
       "                    <span class=\"h5tb-unit\">-</span>]\n",
       "<ul class=\"h5tb-attr-list\"><li style=\"list-style-type: none; font-style: italic\">long_name : number of particles</li>\n",
       "\n",
       "                </ul>\n",
       "\n",
       "             </ul>\n",
       "             \n",
       "\n",
       "                    <ul id=\"ds-1-/number_of_saturated_pixels-48605695800\" class=\"h5tb-var-list\">\n",
       "                    <input id=\"ds-2-/number_of_saturated_pixels-48605698500\" class=\"h5tb-varname-in\" type=\"checkbox\">\n",
       "                    <label class='h5tb-varname' \n",
       "                        for=\"ds-2-/number_of_saturated_pixels-48605698500\">number_of_saturated_pixels</label>\n",
       "                    <span class=\"h5tb-dims\">(404,)</span>  [\n",
       "                    <span class=\"h5tb-unit\">counts</span>]\n",
       "<ul class=\"h5tb-attr-list\"><li style=\"list-style-type: none; font-style:\n",
       "         italic\">standard_name : saturated_pixel_number</li>\n",
       "\n",
       "                </ul>\n",
       "\n",
       "             </ul>\n",
       "             \n",
       "\n",
       "                    <ul id=\"ds-1-/particle_density-48606136800\" class=\"h5tb-var-list\">\n",
       "                    <input id=\"ds-2-/particle_density-48606139600\" class=\"h5tb-varname-in\" type=\"checkbox\">\n",
       "                    <label class='h5tb-varname' \n",
       "                        for=\"ds-2-/particle_density-48606139600\">particle_density</label>\n",
       "                    <span class=\"h5tb-dims\">(404,)</span>  [\n",
       "                    <span class=\"h5tb-unit\">1/px</span>]\n",
       "<ul class=\"h5tb-attr-list\"><li style=\"list-style-type: none; font-style: italic\">long_name : particle density</li><li style=\"list-style-type: none; font-style:\n",
       "         italic\">standard_name : image_particle_density</li>\n",
       "\n",
       "                </ul>\n",
       "\n",
       "             </ul>\n",
       "             \n",
       "\n",
       "                    <ul id=\"ds-1-/particle_intensity_mean-48606762500\" class=\"h5tb-var-list\">\n",
       "                    <input id=\"ds-2-/particle_intensity_mean-48606767100\" class=\"h5tb-varname-in\" type=\"checkbox\">\n",
       "                    <label class='h5tb-varname' \n",
       "                        for=\"ds-2-/particle_intensity_mean-48606767100\">particle_intensity_mean</label>\n",
       "                    <span class=\"h5tb-dims\">(404,)</span>  [\n",
       "                    <span class=\"h5tb-unit\">counts</span>]\n",
       "<ul class=\"h5tb-attr-list\">\n",
       "\n",
       "                </ul>\n",
       "\n",
       "             </ul>\n",
       "             \n",
       "\n",
       "                    <ul id=\"ds-1-/particle_intensity_std-48607272200\" class=\"h5tb-var-list\">\n",
       "                    <input id=\"ds-2-/particle_intensity_std-48607275200\" class=\"h5tb-varname-in\" type=\"checkbox\">\n",
       "                    <label class='h5tb-varname' \n",
       "                        for=\"ds-2-/particle_intensity_std-48607275200\">particle_intensity_std</label>\n",
       "                    <span class=\"h5tb-dims\">(404,)</span>  [\n",
       "                    <span class=\"h5tb-unit\">counts</span>]\n",
       "<ul class=\"h5tb-attr-list\">\n",
       "\n",
       "                </ul>\n",
       "\n",
       "             </ul>\n",
       "             \n",
       "\n",
       "                    <ul id=\"ds-1-/particle_size_mean-48607647900\" class=\"h5tb-var-list\">\n",
       "                    <input id=\"ds-2-/particle_size_mean-48607650600\" class=\"h5tb-varname-in\" type=\"checkbox\">\n",
       "                    <label class='h5tb-varname' \n",
       "                        for=\"ds-2-/particle_size_mean-48607650600\">particle_size_mean</label>\n",
       "                    <span class=\"h5tb-dims\">(404,)</span>  [\n",
       "                    <span class=\"h5tb-unit\">px</span>]\n",
       "<ul class=\"h5tb-attr-list\"><li style=\"list-style-type: none; font-style:\n",
       "         italic\">standard_name : mean_particle_diameter</li>\n",
       "\n",
       "                </ul>\n",
       "\n",
       "             </ul>\n",
       "             \n",
       "\n",
       "                    <ul id=\"ds-1-/particle_size_std-48608098400\" class=\"h5tb-var-list\">\n",
       "                    <input id=\"ds-2-/particle_size_std-48608100900\" class=\"h5tb-varname-in\" type=\"checkbox\">\n",
       "                    <label class='h5tb-varname' \n",
       "                        for=\"ds-2-/particle_size_std-48608100900\">particle_size_std</label>\n",
       "                    <span class=\"h5tb-dims\">(404,)</span>  [\n",
       "                    <span class=\"h5tb-unit\">px</span>]\n",
       "<ul class=\"h5tb-attr-list\"><li style=\"list-style-type: none; font-style:\n",
       "         italic\">standard_name : standard_deviation_of_mean_particle_diam...</li>\n",
       "\n",
       "                </ul>\n",
       "\n",
       "             </ul>\n",
       "             \n",
       "</li>\n",
       "</ul>\n",
       "</div>"
      ],
      "text/plain": [
       "<IPython.core.display.HTML object>"
      ]
     },
     "metadata": {},
     "output_type": "display_data"
    },
    {
     "data": {
      "image/png": "[encoded data removed]",
      "text/plain": [
       "<Figure size 640x480 with 2 Axes>"
      ]
     },
     "metadata": {},
     "output_type": "display_data"
    }
   ],
   "source": [
    "import h5rdmtoolbox as h5tbx\n",
    "import matplotlib.pyplot as plt\n",
    "\n",
    "with h5tbx.H5File(hdf_filename[0], 'r') as h5:\n",
    "    h5.dump()\n",
    "    h5['images'][0, :, :].plot(cmap='gray')"
   ]
  },
  {
   "cell_type": "code",
   "execution_count": 17,
   "metadata": {},
   "outputs": [
    {
     "data": {
      "image/png": "[encoded data removed]",
      "text/plain": [
       "<Figure size 640x480 with 1 Axes>"
      ]
     },
     "metadata": {},
     "output_type": "display_data"
    }
   ],
   "source": [
    "import h5rdmtoolbox as h5tbx\n",
    "import matplotlib.pyplot as plt\n",
    "\n",
    "with h5tbx.H5File(hdf_filename[0], 'r') as h5:\n",
    "    h5['images'][0, :, :].plot.hist(bins=40, xlim=[0, 2**8], xscale='linear', yscale='linear')"
   ]
  },
  {
   "cell_type": "code",
   "execution_count": null,
   "metadata": {},
   "outputs": [],
   "source": []
  },
  {
   "cell_type": "code",
   "execution_count": null,
   "metadata": {},
   "outputs": [],
   "source": []
  }
 ],
 "metadata": {
  "interpreter": {
   "hash": "02d57d4f82a712ded839b61a9a7962b0507366033663decc2eb4f0f687bfd0e6"
  },
  "kernelspec": {
   "display_name": "Python 3 (ipykernel)",
   "language": "python",
   "name": "python3"
  },
  "language_info": {
   "codemirror_mode": {
    "name": "ipython",
    "version": 3
   },
   "file_extension": ".py",
   "mimetype": "text/x-python",
   "name": "python",
   "nbconvert_exporter": "python",
   "pygments_lexer": "ipython3",
   "version": "3.8.13"
  }
 },
 "nbformat": 4,
 "nbformat_minor": 4
}
