{
 "cells": [
  {
   "cell_type": "code",
   "execution_count": 1,
   "id": "cb760f60-a9b2-4b29-8dc4-4fd2a8c88584",
   "metadata": {},
   "outputs": [],
   "source": [
    "import pathlib"
   ]
  },
  {
   "cell_type": "code",
   "execution_count": 2,
   "id": "94d31b34-29cd-41cf-9ff9-080658e63e6f",
   "metadata": {},
   "outputs": [],
   "source": [
    "for f in pathlib.Path('.').glob('*.tif'):\n",
    "    f.unlink()"
   ]
  },
  {
   "cell_type": "code",
   "execution_count": 3,
   "id": "01baa6a9-c508-4293-955a-b1a0cd3b2cd3",
   "metadata": {},
   "outputs": [],
   "source": [
    "for f in pathlib.Path('.').glob('*.hdf'):\n",
    "    f.unlink()"
   ]
  },
  {
   "cell_type": "code",
   "execution_count": 4,
   "id": "b140796b-9dd8-48fd-9b03-a9ad8fd855e1",
   "metadata": {},
   "outputs": [],
   "source": [
    "for f in pathlib.Path('.').glob('*.json'):\n",
    "    f.unlink()"
   ]
  },
  {
   "cell_type": "code",
   "execution_count": null,
   "id": "8f2739d6-cafd-4465-8e7b-980196832251",
   "metadata": {},
   "outputs": [],
   "source": []
  }
 ],
 "metadata": {
  "kernelspec": {
   "display_name": "Python 3 (ipykernel)",
   "language": "python",
   "name": "python3"
  },
  "language_info": {
   "codemirror_mode": {
    "name": "ipython",
    "version": 3
   },
   "file_extension": ".py",
   "mimetype": "text/x-python",
   "name": "python",
   "nbconvert_exporter": "python",
   "pygments_lexer": "ipython3",
   "version": "3.10.13"
  }
 },
 "nbformat": 4,
 "nbformat_minor": 5
}
