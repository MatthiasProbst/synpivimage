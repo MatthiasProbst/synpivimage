{
 "cells": [
  {
   "cell_type": "markdown",
   "id": "0a03294d-e67a-48f0-89fc-f664e034f254",
   "metadata": {},
   "source": [
    "# IO - Tutorial: How to read and write (meta) data"
   ]
  },
  {
   "cell_type": "markdown",
   "id": "69c48fcb-6610-422e-b1e2-bb0bd391a1c5",
   "metadata": {},
   "source": [
    "## 1. Write virtual PIV setup data\n",
    "\n",
    "The configuration of laser and camera can be stored to JSON-LD files:"
   ]
  },
  {
   "cell_type": "code",
   "execution_count": 1,
   "id": "51f9a3bb-7847-4740-a3f2-54792f6c4b8f",
   "metadata": {},
   "outputs": [],
   "source": [
    "import synpivimage"
   ]
  },
  {
   "cell_type": "markdown",
   "id": "46f069ef-4b7b-492b-8aba-a856b51815cb",
   "metadata": {},
   "source": [
    "**Create** sample camera and laser"
   ]
  },
  {
   "cell_type": "code",
   "execution_count": 2,
   "id": "ae14c032-c661-42dd-9205-197f57f2e2d5",
   "metadata": {},
   "outputs": [],
   "source": [
    "cam = synpivimage.Camera(\n",
    "    nx=128,\n",
    "    ny=128,\n",
    "    bit_depth=16,\n",
    "    qe=1,\n",
    "    sensitivity=1,\n",
    "    baseline_noise=0,\n",
    "    dark_noise=0,\n",
    "    shot_noise=False,\n",
    "    fill_ratio_x=1.0,\n",
    "    fill_ratio_y=1.0,\n",
    "    particle_image_diameter=1.0\n",
    ")\n",
    "\n",
    "gauss_laser = synpivimage.Laser(\n",
    "    width=1.4,\n",
    "    shape_factor=2\n",
    ")"
   ]
  },
  {
   "cell_type": "markdown",
   "id": "53fa43dc-7d14-4a6a-a6ee-075c99fc9316",
   "metadata": {},
   "source": [
    "**Save them to JSON-LD**"
   ]
  },
  {
   "cell_type": "code",
   "execution_count": 3,
   "id": "6e79a4ef-edc7-4905-b8d1-01b3538d5f1c",
   "metadata": {},
   "outputs": [],
   "source": [
    "cam_filename = cam.save_jsonld('cam.json')\n",
    "gauss_laser_filename = gauss_laser.save_jsonld('laser.json')"
   ]
  },
  {
   "cell_type": "markdown",
   "id": "62dbb396-e3c5-48a3-b0ee-2c107ce35284",
   "metadata": {},
   "source": [
    "## 2. Load virtual PIV setup data\n",
    "\n",
    "To load the components, we `from_jsonld` of the Ontology class `LaserModel`. This will generate an object as defined in the ontology. Base on this ontology, we know how to find the parameters (laser shape factor etc.):"
   ]
  },
  {
   "cell_type": "code",
   "execution_count": 4,
   "id": "260a52c9-717b-4b49-848d-f735274e8e40",
   "metadata": {},
   "outputs": [],
   "source": [
    "from pivmetalib.pivmeta import LaserModel"
   ]
  },
  {
   "cell_type": "code",
   "execution_count": 5,
   "id": "0ca9e987-8815-4a52-8949-335d7566d682",
   "metadata": {},
   "outputs": [],
   "source": [
    "loaded_laser = LaserModel.from_jsonld(gauss_laser_filename)[0]"
   ]
  },
  {
   "cell_type": "code",
   "execution_count": 6,
   "id": "a25d4ad3-1a6b-4777-8b60-8082a941dbd7",
   "metadata": {},
   "outputs": [],
   "source": [
    "from ontolutils.namespacelib import PIVMETA"
   ]
  },
  {
   "cell_type": "code",
   "execution_count": 7,
   "id": "2e5028a3-f1b7-47d4-948b-759d3c02945d",
   "metadata": {},
   "outputs": [
    {
     "data": {
      "text/plain": [
       "(1.4, 2)"
      ]
     },
     "execution_count": 7,
     "metadata": {},
     "output_type": "execute_result"
    }
   ],
   "source": [
    "for param in loaded_laser.hasParameter:\n",
    "    if str(param.hasStandardName) == str(PIVMETA.laser_sheet_thickness):\n",
    "        lst = param.hasNumericalValue\n",
    "    if str(param.hasStandardName) == str(PIVMETA.laser_sheet_shape_factor):\n",
    "        lsf = param.hasNumericalValue\n",
    "lst, lsf"
   ]
  },
  {
   "cell_type": "markdown",
   "id": "70760bf0-accf-4ea5-b7b3-7d71dab7f31b",
   "metadata": {},
   "source": [
    "Now we can instantiate a new laser class with the `synpivimage` package:"
   ]
  },
  {
   "cell_type": "code",
   "execution_count": 8,
   "id": "35b15176-6fa8-416e-9499-659975bff94c",
   "metadata": {},
   "outputs": [
    {
     "data": {
      "text/plain": [
       "Laser(shape_factor=2, width=1.4)"
      ]
     },
     "execution_count": 8,
     "metadata": {},
     "output_type": "execute_result"
    }
   ],
   "source": [
    "loaded_gauss_laser = synpivimage.Laser(\n",
    "    width=lst,\n",
    "    shape_factor=lsf\n",
    ")\n",
    "loaded_gauss_laser"
   ]
  }
 ],
 "metadata": {
  "kernelspec": {
   "display_name": "Python 3 (ipykernel)",
   "language": "python",
   "name": "python3"
  },
  "language_info": {
   "codemirror_mode": {
    "name": "ipython",
    "version": 3
   },
   "file_extension": ".py",
   "mimetype": "text/x-python",
   "name": "python",
   "nbconvert_exporter": "python",
   "pygments_lexer": "ipython3",
   "version": "3.8.18"
  }
 },
 "nbformat": 4,
 "nbformat_minor": 5
}
